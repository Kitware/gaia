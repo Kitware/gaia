{
 "cells": [
  {
   "cell_type": "code",
   "execution_count": 2,
   "metadata": {},
   "outputs": [],
   "source": [
    "import geolib\n",
    "\n",
    "girder_url = 'http://anka:8080'\n",
    "api_key = '3x8bBbwik9TLlS9lJU8Z8qNeNLfQQsm9QPU7FrkS'\n",
    "girder = geolib.connect(girder_url=girder_url, apikey=api_key)\n"
   ]
  },
  {
   "cell_type": "code",
   "execution_count": 4,
   "metadata": {},
   "outputs": [
    {
     "data": {
      "application/vnd.jupyter.widget-view+json": {
       "model_id": "364c78d1187949d3887f5ac59ff8751b",
       "version_major": 2,
       "version_minor": 0
      },
      "text/plain": [
       "scene(center={'y': 0.0, 'x': 0.0}, layout=Layout(align_self='stretch', height='400px'))"
      ]
     },
     "metadata": {},
     "output_type": "display_data"
    }
   ],
   "source": [
    "dataset_path = 'Public/PH_community_distribution_map.tif'\n",
    "#dataset_path = 'Public/PH_plant_height_map.tif'\n",
    "data_url = girder.lookup_url(dataset_path)\n",
    "dataset = geolib.create(data_url)\n",
    "dataset._epsg = '4326'\n",
    "dataset._setdatatype(geolib.types.RASTER)\n",
    "dataset.opacity = 0.8\n",
    "\n",
    "# Fix metadata\n",
    "metadata = dataset.get_metadata()\n",
    "dataset._metadata['bounds']['coordinates'] = [[\n",
    "    [-106.95242631255823, 38.92484206381101],\n",
    "    [-106.95224175189571, 38.91810990322611],\n",
    "    [-106.94362420673949, 38.91825374356009],\n",
    "    [-106.94380795397146, 38.92498593850482]\n",
    "]]\n",
    "\n",
    "scene1 = geolib.show(dataset)\n",
    "display(scene1)"
   ]
  },
  {
   "cell_type": "code",
   "execution_count": 5,
   "metadata": {},
   "outputs": [
    {
     "data": {
      "application/vnd.jupyter.widget-view+json": {
       "model_id": "3b856056dee24bf68b6db715382d30a5",
       "version_major": 2,
       "version_minor": 0
      },
      "text/plain": [
       "FloatSlider(value=15.5, layout=Layout(width='95%'), max=18.0, min=1.0)"
      ]
     },
     "metadata": {},
     "output_type": "display_data"
    }
   ],
   "source": [
    "import ipywidgets as widgets\n",
    "z1 = widgets.FloatSlider(min=1, max=18, value=scene1.zoom, layout=dict(width='95%'))\n",
    "newlink = widgets.jslink((z1, 'value'), (scene1, 'zoom'))\n",
    "display(z1)\n"
   ]
  },
  {
   "cell_type": "code",
   "execution_count": 6,
   "metadata": {},
   "outputs": [
    {
     "data": {
      "application/vnd.jupyter.widget-view+json": {
       "model_id": "eb006764b9324692beae9be3ef1db2e0",
       "version_major": 2,
       "version_minor": 0
      },
      "text/plain": [
       "scene(center={'y': 0.0, 'x': 0.0}, layout=Layout(align_self='stretch', height='400px'))"
      ]
     },
     "metadata": {},
     "output_type": "display_data"
    }
   ],
   "source": [
    "import geojson\n",
    "\n",
    "# Create vector object for dataset bounds\n",
    "meta = dataset.get_metadata()\n",
    "bounds = meta.get('bounds',{})\n",
    "# assert bounds, 'Dataset bounds missing'\n",
    "\n",
    "bounds_feature = geojson.Feature(geometry=bounds, properties={'fillColor': 'black', 'fillOpacity': 0.1})\n",
    "bounds_object = geolib.create(bounds_feature)\n",
    "\n",
    "# Compute simple crop region inside the dataset\n",
    "coords = bounds.get('coordinates')[0]\n",
    "xvals, yvals = zip(*coords)\n",
    "xmin = min(xvals); ymin = min(yvals)\n",
    "xmax = max(xvals); ymax = max(yvals)\n",
    "\n",
    "# Compute center coordinates\n",
    "x = (xmin + xmax) / 2.0\n",
    "y = (ymin + ymax) / 2.0\n",
    "\n",
    "# Use percentage of height & width\n",
    "dx = 0.12 * (xmax - xmin)\n",
    "dy = 0.18 * (ymax - ymin)\n",
    "poly = [[x,y], [x+dx,y+dy], [x-dx,y+dy], [x-dx,y-dy], [x+dx,y-dy]]\n",
    "\n",
    "crop_geom = geojson.Polygon([poly])\n",
    "crop_feature = geojson.Feature(geometry=crop_geom, properties={'fillColor': 'magenta', 'fillOpacity': 0.6})\n",
    "crop_object = geolib.create(crop_feature)\n",
    "scene2 = geolib.show([crop_object, bounds_object])\n",
    "display(scene2)"
   ]
  },
  {
   "cell_type": "code",
   "execution_count": 7,
   "metadata": {},
   "outputs": [
    {
     "data": {
      "application/vnd.jupyter.widget-view+json": {
       "model_id": "d66e2390dd6b4a8db4f5520ba7c2adc4",
       "version_major": 2,
       "version_minor": 0
      },
      "text/plain": [
       "FloatSlider(value=15.5, layout=Layout(width='95%'), max=18.0, min=1.0)"
      ]
     },
     "metadata": {},
     "output_type": "display_data"
    }
   ],
   "source": [
    "import ipywidgets as widgets\n",
    "z2 = widgets.FloatSlider(min=1, max=18, value=scene2.zoom, layout=dict(width='95%'))\n",
    "newlink = widgets.jslink((z2, 'value'), (scene2, 'zoom'))\n",
    "display(z2)"
   ]
  }
 ],
 "metadata": {
  "kernelspec": {
   "display_name": "Python 3",
   "language": "python",
   "name": "python3"
  },
  "language_info": {
   "codemirror_mode": {
    "name": "ipython",
    "version": 3
   },
   "file_extension": ".py",
   "mimetype": "text/x-python",
   "name": "python",
   "nbconvert_exporter": "python",
   "pygments_lexer": "ipython3",
   "version": "3.5.2"
  }
 },
 "nbformat": 4,
 "nbformat_minor": 2
}
