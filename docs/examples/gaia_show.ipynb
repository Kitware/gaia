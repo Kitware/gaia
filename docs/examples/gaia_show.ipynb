{
 "cells": [
  {
   "cell_type": "code",
   "execution_count": null,
   "metadata": {},
   "outputs": [],
   "source": [
    "import os\n",
    "import gaia\n",
    "\n",
    "data_folder = os.path.join(os.getcwd(), os.pardir, os.pardir, 'tests', 'data')\n",
    "hospitals = gaia.create(os.path.join(data_folder, 'iraq_hospitals.geojson'))\n",
    "districts = gaia.create(os.path.join(data_folder, 'baghdad_districts.geojson'))\n",
    "\n",
    "scene = gaia.show([districts, hospitals])\n",
    "#help(gaia.show)\n",
    "#scene\n",
    "#print(scene)\n",
    "scene.center = {'x': 44.0, 'y': 33.5}\n",
    "#print(scene)\n",
    "scene"
   ]
  },
  {
   "cell_type": "code",
   "execution_count": null,
   "metadata": {},
   "outputs": [],
   "source": [
    "from gaia import preprocess\n",
    "\n",
    "cropped = preprocess.crop(hospitals, districts)\n",
    "gaia.show([cropped, districts])"
   ]
  },
  {
   "cell_type": "code",
   "execution_count": null,
   "metadata": {},
   "outputs": [],
   "source": []
  }
 ],
 "metadata": {
  "kernelspec": {
   "display_name": "Python 3",
   "language": "python",
   "name": "python3"
  },
  "language_info": {
   "codemirror_mode": {
    "name": "ipython",
    "version": 3
   },
   "file_extension": ".py",
   "mimetype": "text/x-python",
   "name": "python",
   "nbconvert_exporter": "python",
   "pygments_lexer": "ipython3",
   "version": "3.5.2"
  }
 },
 "nbformat": 4,
 "nbformat_minor": 2
}
