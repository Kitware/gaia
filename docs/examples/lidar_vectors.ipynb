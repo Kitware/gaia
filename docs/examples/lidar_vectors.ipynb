{
 "cells": [
  {
   "cell_type": "code",
   "execution_count": null,
   "metadata": {},
   "outputs": [],
   "source": [
    "import os\n",
    "\n",
    "#\n",
    "# IMPORTANT! YOU MUST SET data_dir TO YOUR COPY OF THE LiDAR DATASET!\n",
    "#\n",
    "\n",
    "data_dir = '/home/john/projects/data2models/data/EastRiverWashingtonGulch/LiDAR'\n",
    "vectors_dir = os.path.join(data_dir, 'Vectors')\n",
    "os.listdir(vectors_dir)\n"
   ]
  },
  {
   "cell_type": "code",
   "execution_count": null,
   "metadata": {},
   "outputs": [],
   "source": [
    "import glob\n",
    "\n",
    "pattern = '{}/**/*.shp'.format(vectors_dir)\n",
    "# for filename in glob.iglob(pattern, recursive=True):\n",
    "#     print(filename)\n",
    "shp_files = list(glob.iglob(pattern, recursive=True))\n",
    "n = len(vectors_dir) + 1\n",
    "for i,path in enumerate(shp_files):\n",
    "    print('{}. .../{}'.format(i, path[n:]))"
   ]
  },
  {
   "cell_type": "code",
   "execution_count": null,
   "metadata": {},
   "outputs": [],
   "source": [
    "import gaia\n"
   ]
  },
  {
   "cell_type": "code",
   "execution_count": null,
   "metadata": {},
   "outputs": [],
   "source": [
    "monuments = gaia.create(shp_files[0])\n",
    "wag371 = gaia.create(shp_files[3])\n",
    "breaklines = gaia.create(shp_files[13])\n",
    "boundary = gaia.create(shp_files[14])\n",
    "tile_index = gaia.create(shp_files[15])\n",
    "\n",
    "scene = gaia.show([monuments, wag371, breaklines, boundary, tile_index])\n",
    "display(scene)"
   ]
  },
  {
   "cell_type": "code",
   "execution_count": null,
   "metadata": {},
   "outputs": [],
   "source": [
    "# Add zoom slider\n",
    "import ipywidgets as widgets\n",
    "z = widgets.FloatSlider(min=1, max=18, value=scene.zoom, layout=dict(width='95%'))\n"
   ]
  },
  {
   "cell_type": "code",
   "execution_count": null,
   "metadata": {},
   "outputs": [],
   "source": [
    "newlink = widgets.jslink((z, 'value'), (scene, 'zoom'))\n",
    "display(z)"
   ]
  },
  {
   "cell_type": "code",
   "execution_count": null,
   "metadata": {},
   "outputs": [],
   "source": []
  }
 ],
 "metadata": {
  "kernelspec": {
   "display_name": "Python 3",
   "language": "python",
   "name": "python3"
  },
  "language_info": {
   "codemirror_mode": {
    "name": "ipython",
    "version": 3
   },
   "file_extension": ".py",
   "mimetype": "text/x-python",
   "name": "python",
   "nbconvert_exporter": "python",
   "pygments_lexer": "ipython3",
   "version": "3.5.2"
  }
 },
 "nbformat": 4,
 "nbformat_minor": 2
}
