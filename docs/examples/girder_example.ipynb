{
 "cells": [
  {
   "cell_type": "code",
   "execution_count": 1,
   "metadata": {},
   "outputs": [],
   "source": [
    "import geojson\n",
    "\n",
    "import gaia\n",
    "\n",
    "# Initialize Girder connection\n",
    "apikey = 'bimEnIEt2RU8U1GqJKkqeJ5G5eH36kTSHGLjaUeA'\n",
    "datastore = gaia.connect(apikey=apikey)\n"
   ]
  },
  {
   "cell_type": "code",
   "execution_count": 5,
   "metadata": {},
   "outputs": [
    {
     "name": "stdout",
     "output_type": "stream",
     "text": [
      "datastore url: girder://item/5bb7d7533b4e9a0007762163\n",
      "\n",
      "{\n",
      "  \"affine\": [\n",
      "    322422.99999999907,\n",
      "    0.5,\n",
      "    0.0,\n",
      "    4322541.000000004,\n",
      "    0.0,\n",
      "    -0.5\n",
      "  ],\n",
      "  \"bandInfo\": [\n",
      "    {\n",
      "      \"colorInterpretation\": \"Gray\",\n",
      "      \"dataType\": \"Float32\",\n",
      "      \"noData\": -3.4028234663852886e+38,\n",
      "      \"offset\": 0.0,\n",
      "      \"scale\": 1.0,\n",
      "      \"units\": \"\"\n",
      "    }\n",
      "  ],\n",
      "  \"bands\": 1,\n",
      "  \"bounds\": {\n",
      "    \"coordinates\": [\n",
      "      [\n",
      "        [\n",
      "          -107.04646274467903,\n",
      "          38.854612900051926\n",
      "        ],\n",
      "        [\n",
      "          -107.04646274467903,\n",
      "          39.03667206832321\n",
      "        ],\n",
      "        [\n",
      "          -106.88737630031515,\n",
      "          39.03667206832321\n",
      "        ],\n",
      "        [\n",
      "          -106.88737630031515,\n",
      "          38.854612900051926\n",
      "        ],\n",
      "        [\n",
      "          -107.04646274467903,\n",
      "          38.854612900051926\n",
      "        ]\n",
      "      ]\n",
      "    ],\n",
      "    \"type\": \"Polygon\"\n",
      "  },\n",
      "  \"crs\": \"+proj=utm +zone=13 +ellps=GRS80 +units=m +no_defs \",\n",
      "  \"driver\": \"GeoTIFF\",\n",
      "  \"height\": 39816,\n",
      "  \"nativeBounds\": {\n",
      "    \"bottom\": 4302633.000000004,\n",
      "    \"left\": 322422.99999999907,\n",
      "    \"right\": 336646.99999999907,\n",
      "    \"top\": 4322541.000000004\n",
      "  },\n",
      "  \"type_\": \"raster\",\n",
      "  \"width\": 28448\n",
      "}\n",
      "Input dataset width: 28448, height: 39816\n"
     ]
    }
   ],
   "source": [
    "# Create gaia dataset for girder-hosted file\n",
    "path = 'Public/DEM_bare_earth.tif'  # (~4GB)\n",
    "\n",
    "# API option 1: create internal url\n",
    "datastore_url = datastore.lookup_url('Public/DEM_bare_earth.tif')\n",
    "#datastore_url = datastore.lookup_url('Public/TC_NG_SFBay_US_Geo.tif')\n",
    "print('datastore url:', datastore_url)\n",
    "dataset = gaia.create(datastore_url)\n",
    "\n",
    "# API option 2: pass in tuple as the data source\n",
    "# data_source = (datastore, 'Public/DEM_bare_earth.tif')\n",
    "# dataset = gaia.create(data_source)\n",
    "\n",
    "meta = dataset.get_metadata()\n",
    "print()\n",
    "import json\n",
    "print(json.dumps(meta, sort_keys=True, indent=2))\n",
    "print('Input dataset width: {}, height: {}'.format(meta['width'], meta['height']))\n",
    "#gaia.show(dataset, representation='outline')\n",
    "#gaia.show(dataset)"
   ]
  },
  {
   "cell_type": "code",
   "execution_count": 3,
   "metadata": {},
   "outputs": [
    {
     "name": "stdout",
     "output_type": "stream",
     "text": [
      "\n",
      "{\"coordinates\": [[[-106.9669195224971, 38.94564248418757], [-106.9669195224971, 38.944732188346215], [-106.96771495471891, 38.944732188346215], [-106.96771495471891, 38.94564248418757], [-106.9669195224971, 38.94564248418757]]], \"type\": \"Polygon\"}\n"
     ]
    }
   ],
   "source": [
    "# Generate small crop geometry\n",
    "bounds = meta.get('bounds',{}).get('coordinates')[0]\n",
    "assert bounds, 'Dataset bounds missing'\n",
    "# print()\n",
    "# print(bounds)\n",
    "\n",
    "# Compute center coordinates\n",
    "x = (bounds[0][0] + bounds[2][0]) / 2.0\n",
    "y = (bounds[0][1] + bounds[2][1]) / 2.0\n",
    "\n",
    "# Use smll percentage of height & width\n",
    "dx = 0.005 * (bounds[2][0] - bounds[0][0])\n",
    "dy = 0.005 * (bounds[2][1] - bounds[0][1])\n",
    "rect = [\n",
    "    [x,y], [x, y-dy], [x-dx, y-dy], [x-dx, y], [x,y]\n",
    "]\n",
    "# print()\n",
    "# print(rect)\n",
    "\n",
    "# Must pass rectangle in as a LIST, in order to get geom formatted the way resgeodata uses\n",
    "crop_geom = geojson.Polygon([rect])\n",
    "print()\n",
    "print(crop_geom)\n"
   ]
  },
  {
   "cell_type": "code",
   "execution_count": 4,
   "metadata": {},
   "outputs": [
    {
     "name": "stdout",
     "output_type": "stream",
     "text": [
      "Deleting existing (item crop100m.tif)\n",
      " 1 Checking job 5bbcd5203b4e9a013ce517cf status... 2\n",
      " 2 Checking job 5bbcd5203b4e9a013ce517cf status... 2\n",
      " 3 Checking job 5bbcd5203b4e9a013ce517cf status... 2\n",
      " 4 Checking job 5bbcd5203b4e9a013ce517cf status... 2\n",
      " 5 Checking job 5bbcd5203b4e9a013ce517cf status... 2\n",
      " 6 Checking job 5bbcd5203b4e9a013ce517cf status... 2\n",
      " 7 Checking job 5bbcd5203b4e9a013ce517cf status... 2\n",
      " 8 Checking job 5bbcd5203b4e9a013ce517cf status... 2\n",
      " 9 Checking job 5bbcd5203b4e9a013ce517cf status... 2\n",
      "10 Checking job 5bbcd5203b4e9a013ce517cf status... 2\n",
      "11 Checking job 5bbcd5203b4e9a013ce517cf status... 2\n",
      "12 Checking job 5bbcd5203b4e9a013ce517cf status... 2\n",
      "13 Checking job 5bbcd5203b4e9a013ce517cf status... 3\n"
     ]
    }
   ],
   "source": [
    "# Crop the dataset\n",
    "from gaia import preprocess\n",
    "cropped_dataset = preprocess.crop2(dataset, crop_geom, name='crop100m.tif')"
   ]
  },
  {
   "cell_type": "code",
   "execution_count": 5,
   "metadata": {},
   "outputs": [
    {
     "name": "stdout",
     "output_type": "stream",
     "text": [
      "\n",
      "Cropped dataset width 143, height 207\n"
     ]
    }
   ],
   "source": [
    "print()\n",
    "cropped_meta = cropped_dataset.get_metadata()\n",
    "print('Cropped dataset width {}, height {}'.format(\n",
    "    cropped_meta['width'], cropped_meta['height']))\n",
    "#print(cropped_meta)"
   ]
  },
  {
   "cell_type": "code",
   "execution_count": 6,
   "metadata": {},
   "outputs": [
    {
     "name": "stdout",
     "output_type": "stream",
     "text": [
      "Using tile_url: http://localhost:8989/5bbbb6413b4e9a013ce517b6/{z}/{y}/{x}\n",
      "tile_url http://localhost:8989/5bbbb6413b4e9a013ce517b6/{z}/{y}/{x}\n"
     ]
    },
    {
     "ename": "Exception",
     "evalue": "Unrecognized layer type \"tile\"",
     "output_type": "error",
     "traceback": [
      "\u001b[0;31m---------------------------------------------------------------------------\u001b[0m",
      "\u001b[0;31mException\u001b[0m                                 Traceback (most recent call last)",
      "\u001b[0;32m<ipython-input-6-cb6731cc21f3>\u001b[0m in \u001b[0;36m<module>\u001b[0;34m()\u001b[0m\n\u001b[1;32m      1\u001b[0m \u001b[0;31m# Todo Update gaia.show() for girder-resident datasets\u001b[0m\u001b[0;34m\u001b[0m\u001b[0;34m\u001b[0m\u001b[0m\n\u001b[0;32m----> 2\u001b[0;31m \u001b[0mscene\u001b[0m \u001b[0;34m=\u001b[0m \u001b[0mgaia\u001b[0m\u001b[0;34m.\u001b[0m\u001b[0mshow\u001b[0m\u001b[0;34m(\u001b[0m\u001b[0mcropped_dataset\u001b[0m\u001b[0;34m)\u001b[0m\u001b[0;34m\u001b[0m\u001b[0m\n\u001b[0m\u001b[1;32m      3\u001b[0m \u001b[0mscene\u001b[0m\u001b[0;34m\u001b[0m\u001b[0m\n",
      "\u001b[0;32m~/projects/da/git/gaia/gaia/__init__.py\u001b[0m in \u001b[0;36mshow\u001b[0;34m(*data_objects, **options)\u001b[0m\n\u001b[1;32m    178\u001b[0m     \u001b[0;31m# Is jupyterlab_geojs available?\u001b[0m\u001b[0;34m\u001b[0m\u001b[0;34m\u001b[0m\u001b[0m\n\u001b[1;32m    179\u001b[0m     \u001b[0;32mif\u001b[0m \u001b[0mgeojs\u001b[0m\u001b[0;34m.\u001b[0m\u001b[0mis_loaded\u001b[0m\u001b[0;34m(\u001b[0m\u001b[0;34m)\u001b[0m\u001b[0;34m:\u001b[0m\u001b[0;34m\u001b[0m\u001b[0m\n\u001b[0;32m--> 180\u001b[0;31m         \u001b[0mscene\u001b[0m \u001b[0;34m=\u001b[0m \u001b[0mgeojs\u001b[0m\u001b[0;34m.\u001b[0m\u001b[0mshow\u001b[0m\u001b[0;34m(\u001b[0m\u001b[0;34m*\u001b[0m\u001b[0mdata_objects\u001b[0m\u001b[0;34m,\u001b[0m \u001b[0;34m**\u001b[0m\u001b[0moptions\u001b[0m\u001b[0;34m)\u001b[0m\u001b[0;34m\u001b[0m\u001b[0m\n\u001b[0m\u001b[1;32m    181\u001b[0m         \u001b[0;32mreturn\u001b[0m \u001b[0mscene\u001b[0m\u001b[0;34m\u001b[0m\u001b[0m\n\u001b[1;32m    182\u001b[0m \u001b[0;34m\u001b[0m\u001b[0m\n",
      "\u001b[0;32m~/projects/da/git/gaia/gaia/display/geojs.py\u001b[0m in \u001b[0;36mshow\u001b[0;34m(data_objects, **options)\u001b[0m\n\u001b[1;32m    125\u001b[0m             \u001b[0mtile_url\u001b[0m \u001b[0;34m=\u001b[0m \u001b[0mdata_object\u001b[0m\u001b[0;34m.\u001b[0m\u001b[0m_get_tile_url\u001b[0m\u001b[0;34m(\u001b[0m\u001b[0;34m)\u001b[0m\u001b[0;34m\u001b[0m\u001b[0m\n\u001b[1;32m    126\u001b[0m             \u001b[0mprint\u001b[0m\u001b[0;34m(\u001b[0m\u001b[0;34m'tile_url'\u001b[0m\u001b[0;34m,\u001b[0m \u001b[0mtile_url\u001b[0m\u001b[0;34m)\u001b[0m\u001b[0;34m\u001b[0m\u001b[0m\n\u001b[0;32m--> 127\u001b[0;31m             \u001b[0mtile_layer\u001b[0m \u001b[0;34m=\u001b[0m \u001b[0mscene\u001b[0m\u001b[0;34m.\u001b[0m\u001b[0mcreate_layer\u001b[0m\u001b[0;34m(\u001b[0m\u001b[0;34m'tile'\u001b[0m\u001b[0;34m,\u001b[0m \u001b[0murl\u001b[0m\u001b[0;34m=\u001b[0m\u001b[0mtile_url\u001b[0m\u001b[0;34m)\u001b[0m\u001b[0;34m\u001b[0m\u001b[0m\n\u001b[0m\u001b[1;32m    128\u001b[0m \u001b[0;34m\u001b[0m\u001b[0m\n\u001b[1;32m    129\u001b[0m     \u001b[0;31m#print(combined_bounds)\u001b[0m\u001b[0;34m\u001b[0m\u001b[0;34m\u001b[0m\u001b[0m\n",
      "\u001b[0;32m~/projects/da/git/jupyterlab_geojs/jupyterlab_geojs/scene.py\u001b[0m in \u001b[0;36mcreate_layer\u001b[0;34m(self, layer_type, **kwargs)\u001b[0m\n\u001b[1;32m     82\u001b[0m         \u001b[0;31m#     layer = GeoJSUILayer(**kwargs)\u001b[0m\u001b[0;34m\u001b[0m\u001b[0;34m\u001b[0m\u001b[0m\n\u001b[1;32m     83\u001b[0m         \u001b[0;32melse\u001b[0m\u001b[0;34m:\u001b[0m\u001b[0;34m\u001b[0m\u001b[0m\n\u001b[0;32m---> 84\u001b[0;31m             \u001b[0;32mraise\u001b[0m \u001b[0mException\u001b[0m\u001b[0;34m(\u001b[0m\u001b[0;34m'Unrecognized layer type \\\"{}\\\"'\u001b[0m\u001b[0;34m.\u001b[0m\u001b[0mformat\u001b[0m\u001b[0;34m(\u001b[0m\u001b[0mlayer_type\u001b[0m\u001b[0;34m)\u001b[0m\u001b[0;34m)\u001b[0m\u001b[0;34m\u001b[0m\u001b[0m\n\u001b[0m\u001b[1;32m     85\u001b[0m \u001b[0;34m\u001b[0m\u001b[0m\n\u001b[1;32m     86\u001b[0m         \u001b[0mself\u001b[0m\u001b[0;34m.\u001b[0m\u001b[0m_layers\u001b[0m\u001b[0;34m.\u001b[0m\u001b[0mappend\u001b[0m\u001b[0;34m(\u001b[0m\u001b[0mlayer\u001b[0m\u001b[0;34m)\u001b[0m\u001b[0;34m\u001b[0m\u001b[0m\n",
      "\u001b[0;31mException\u001b[0m: Unrecognized layer type \"tile\""
     ]
    }
   ],
   "source": [
    "# Todo Update gaia.show() for girder-resident datasets\n",
    "scene = gaia.show(cropped_dataset)\n",
    "scene"
   ]
  },
  {
   "cell_type": "code",
   "execution_count": null,
   "metadata": {},
   "outputs": [],
   "source": []
  }
 ],
 "metadata": {
  "kernelspec": {
   "display_name": "Python 3",
   "language": "python",
   "name": "python3"
  },
  "language_info": {
   "codemirror_mode": {
    "name": "ipython",
    "version": 3
   },
   "file_extension": ".py",
   "mimetype": "text/x-python",
   "name": "python",
   "nbconvert_exporter": "python",
   "pygments_lexer": "ipython3",
   "version": "3.5.2"
  }
 },
 "nbformat": 4,
 "nbformat_minor": 2
}
