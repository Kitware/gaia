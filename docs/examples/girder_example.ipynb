{
 "cells": [
  {
   "cell_type": "code",
   "execution_count": 1,
   "metadata": {},
   "outputs": [],
   "source": [
    "import json\n",
    "import sys\n",
    "\n",
    "import geojson\n",
    "\n",
    "import gaia\n",
    "\n",
    "# Initialize Girder connection\n",
    "user = 'admin'\n",
    "pw = 'letmein'\n",
    "datastore = gaia.connect(username=user, password=pw)\n"
   ]
  },
  {
   "cell_type": "code",
   "execution_count": 4,
   "metadata": {},
   "outputs": [
    {
     "name": "stdout",
     "output_type": "stream",
     "text": [
      "datastore url: girder://item/5bae2975e44298008d78ac90\n",
      "\n",
      "Input dataset width: 28448, height: 39816\n"
     ]
    }
   ],
   "source": [
    "# Create gaia dataset for girder-hosted file\n",
    "path = 'Public/DEM_bare_earth.tif'  # (~4GB)\n",
    "\n",
    "# API option 1: create internal url\n",
    "datastore_url = datastore.lookup_url('Public/DEM_bare_earth.tif')\n",
    "print('datastore url:', datastore_url)\n",
    "dataset = gaia.create(datastore_url)\n",
    "\n",
    "# API option 2: pass in tuple as the data source\n",
    "# data_source = (datastore, 'Public/DEM_bare_earth.tif')\n",
    "# dataset = gaia.create(data_source)\n",
    "\n",
    "meta = dataset.get_metadata()\n",
    "print()\n",
    "# print(json.dumps(meta, sort_keys=True, indent=2))\n",
    "print('Input dataset width: {}, height: {}'.format(meta['width'], meta['height']))\n",
    "# Todo: gaia.show(dataset, representation='outline')"
   ]
  },
  {
   "cell_type": "code",
   "execution_count": 5,
   "metadata": {},
   "outputs": [
    {
     "name": "stdout",
     "output_type": "stream",
     "text": [
      "\n",
      "{\"coordinates\": [[[-106.9669195224971, 38.94564248418757], [-106.9669195224971, 38.944732188346215], [-106.96771495471891, 38.944732188346215], [-106.96771495471891, 38.94564248418757], [-106.9669195224971, 38.94564248418757]]], \"type\": \"Polygon\"}\n"
     ]
    }
   ],
   "source": [
    "# Generate small crop geometry\n",
    "bounds = meta.get('bounds',{}).get('coordinates')[0]\n",
    "assert bounds, 'Dataset bounds missing'\n",
    "# print()\n",
    "# print(bounds)\n",
    "\n",
    "# Compute center coordinates\n",
    "x = (bounds[0][0] + bounds[2][0]) / 2.0\n",
    "y = (bounds[0][1] + bounds[2][1]) / 2.0\n",
    "\n",
    "# Use smll percentage of height & width\n",
    "dx = 0.005 * (bounds[2][0] - bounds[0][0])\n",
    "dy = 0.005 * (bounds[2][1] - bounds[0][1])\n",
    "rect = [\n",
    "    [x,y], [x, y-dy], [x-dx, y-dy], [x-dx, y], [x,y]\n",
    "]\n",
    "# print()\n",
    "# print(rect)\n",
    "\n",
    "# Must pass rectangle in as a LIST, in order to get geom formatted the way resgeodata uses\n",
    "crop_geom = geojson.Polygon([rect])\n",
    "print()\n",
    "print(crop_geom)\n"
   ]
  },
  {
   "cell_type": "code",
   "execution_count": 6,
   "metadata": {},
   "outputs": [
    {
     "name": "stdout",
     "output_type": "stream",
     "text": [
      "Deleting existing crop100m.tif file (item item/5bb23bc4e44298008d78add1)\n",
      " 1 Checking job 5bb2511ee44298008d78add9 status... 2\n",
      " 2 Checking job 5bb2511ee44298008d78add9 status... 2\n",
      " 3 Checking job 5bb2511ee44298008d78add9 status... 2\n",
      " 4 Checking job 5bb2511ee44298008d78add9 status... 2\n",
      " 5 Checking job 5bb2511ee44298008d78add9 status... 2\n",
      " 6 Checking job 5bb2511ee44298008d78add9 status... 2\n",
      " 7 Checking job 5bb2511ee44298008d78add9 status... 2\n",
      " 8 Checking job 5bb2511ee44298008d78add9 status... 2\n",
      " 9 Checking job 5bb2511ee44298008d78add9 status... 2\n",
      "10 Checking job 5bb2511ee44298008d78add9 status... 2\n",
      "11 Checking job 5bb2511ee44298008d78add9 status... 2\n",
      "12 Checking job 5bb2511ee44298008d78add9 status... 2\n",
      "13 Checking job 5bb2511ee44298008d78add9 status... 3\n",
      "\n",
      "Cropped dataset width 143, height 207\n"
     ]
    }
   ],
   "source": [
    "# Crop the dataset\n",
    "from gaia import preprocess\n",
    "cropped_dataset = preprocess.crop2(dataset, crop_geom, name='crop100m.tif')\n",
    "print()\n",
    "cropped_meta = cropped_dataset.get_metadata()\n",
    "print('Cropped dataset width {}, height {}'.format(\n",
    "    cropped_meta['width'], cropped_meta['height']))\n",
    "#print(cropped_meta)\n"
   ]
  },
  {
   "cell_type": "code",
   "execution_count": 7,
   "metadata": {},
   "outputs": [
    {
     "ename": "AttributeError",
     "evalue": "'NoneType' object has no attribute 'load_data'",
     "output_type": "error",
     "traceback": [
      "\u001b[0;31m---------------------------------------------------------------------------\u001b[0m",
      "\u001b[0;31mAttributeError\u001b[0m                            Traceback (most recent call last)",
      "\u001b[0;32m<ipython-input-7-1437e85cfa61>\u001b[0m in \u001b[0;36m<module>\u001b[0;34m()\u001b[0m\n\u001b[0;32m----> 1\u001b[0;31m \u001b[0mgaia\u001b[0m\u001b[0;34m.\u001b[0m\u001b[0mshow\u001b[0m\u001b[0;34m(\u001b[0m\u001b[0mcropped_dataset\u001b[0m\u001b[0;34m)\u001b[0m\u001b[0;34m\u001b[0m\u001b[0m\n\u001b[0m",
      "\u001b[0;32m~/projects/da/git/gaia/gaia/__init__.py\u001b[0m in \u001b[0;36mshow\u001b[0;34m(*data_objects, **options)\u001b[0m\n\u001b[1;32m    178\u001b[0m     \u001b[0;31m# Is jupyterlab_geojs available?\u001b[0m\u001b[0;34m\u001b[0m\u001b[0;34m\u001b[0m\u001b[0m\n\u001b[1;32m    179\u001b[0m     \u001b[0;32mif\u001b[0m \u001b[0mgeojs\u001b[0m\u001b[0;34m.\u001b[0m\u001b[0mis_loaded\u001b[0m\u001b[0;34m(\u001b[0m\u001b[0;34m)\u001b[0m\u001b[0;34m:\u001b[0m\u001b[0;34m\u001b[0m\u001b[0m\n\u001b[0;32m--> 180\u001b[0;31m         \u001b[0mscene\u001b[0m \u001b[0;34m=\u001b[0m \u001b[0mgeojs\u001b[0m\u001b[0;34m.\u001b[0m\u001b[0mshow\u001b[0m\u001b[0;34m(\u001b[0m\u001b[0;34m*\u001b[0m\u001b[0mdata_objects\u001b[0m\u001b[0;34m,\u001b[0m \u001b[0moptions\u001b[0m\u001b[0;34m=\u001b[0m\u001b[0moptions\u001b[0m\u001b[0;34m)\u001b[0m\u001b[0;34m\u001b[0m\u001b[0m\n\u001b[0m\u001b[1;32m    181\u001b[0m         \u001b[0;32mreturn\u001b[0m \u001b[0mscene\u001b[0m\u001b[0;34m\u001b[0m\u001b[0m\n\u001b[1;32m    182\u001b[0m \u001b[0;34m\u001b[0m\u001b[0m\n",
      "\u001b[0;32m~/projects/da/git/gaia/gaia/display/geojs.py\u001b[0m in \u001b[0;36mshow\u001b[0;34m(data_objects, **options)\u001b[0m\n\u001b[1;32m     52\u001b[0m         \u001b[0;31m#print(data_object._getdatatype(), data_object._getdataformat())\u001b[0m\u001b[0;34m\u001b[0m\u001b[0;34m\u001b[0m\u001b[0m\n\u001b[1;32m     53\u001b[0m         \u001b[0;31m# type is vector, format is [.json, .geojson, .shp, pandas]\u001b[0m\u001b[0;34m\u001b[0m\u001b[0;34m\u001b[0m\u001b[0m\n\u001b[0;32m---> 54\u001b[0;31m         \u001b[0mdata\u001b[0m \u001b[0;34m=\u001b[0m \u001b[0mdata_object\u001b[0m\u001b[0;34m.\u001b[0m\u001b[0mget_data\u001b[0m\u001b[0;34m(\u001b[0m\u001b[0;34m)\u001b[0m\u001b[0;34m\u001b[0m\u001b[0m\n\u001b[0m\u001b[1;32m     55\u001b[0m \u001b[0;34m\u001b[0m\u001b[0m\n\u001b[1;32m     56\u001b[0m         \u001b[0;31m# Can only seem to get json *string*; so parse into json *object*\u001b[0m\u001b[0;34m\u001b[0m\u001b[0;34m\u001b[0m\u001b[0m\n",
      "\u001b[0;32m~/projects/da/git/gaia/gaia/gaia_data.py\u001b[0m in \u001b[0;36mget_data\u001b[0;34m(self)\u001b[0m\n\u001b[1;32m     38\u001b[0m     \u001b[0;32mdef\u001b[0m \u001b[0mget_data\u001b[0m\u001b[0;34m(\u001b[0m\u001b[0mself\u001b[0m\u001b[0;34m)\u001b[0m\u001b[0;34m:\u001b[0m\u001b[0;34m\u001b[0m\u001b[0m\n\u001b[1;32m     39\u001b[0m         \u001b[0;32mif\u001b[0m \u001b[0mself\u001b[0m\u001b[0;34m.\u001b[0m\u001b[0m_data\u001b[0m \u001b[0;32mis\u001b[0m \u001b[0;32mNone\u001b[0m\u001b[0;34m:\u001b[0m\u001b[0;34m\u001b[0m\u001b[0m\n\u001b[0;32m---> 40\u001b[0;31m             \u001b[0mself\u001b[0m\u001b[0;34m.\u001b[0m\u001b[0m_reader\u001b[0m\u001b[0;34m.\u001b[0m\u001b[0mload_data\u001b[0m\u001b[0;34m(\u001b[0m\u001b[0mself\u001b[0m\u001b[0;34m)\u001b[0m\u001b[0;34m\u001b[0m\u001b[0m\n\u001b[0m\u001b[1;32m     41\u001b[0m         \u001b[0;32mreturn\u001b[0m \u001b[0mself\u001b[0m\u001b[0;34m.\u001b[0m\u001b[0m_data\u001b[0m\u001b[0;34m\u001b[0m\u001b[0m\n\u001b[1;32m     42\u001b[0m \u001b[0;34m\u001b[0m\u001b[0m\n",
      "\u001b[0;31mAttributeError\u001b[0m: 'NoneType' object has no attribute 'load_data'"
     ]
    }
   ],
   "source": [
    "# Todo Update gaia.show() for girder-resident datasets\n",
    "# gaia.show(cropped_dataset)"
   ]
  },
  {
   "cell_type": "code",
   "execution_count": null,
   "metadata": {},
   "outputs": [],
   "source": []
  }
 ],
 "metadata": {
  "kernelspec": {
   "display_name": "Python 3",
   "language": "python",
   "name": "python3"
  },
  "language_info": {
   "codemirror_mode": {
    "name": "ipython",
    "version": 3
   },
   "file_extension": ".py",
   "mimetype": "text/x-python",
   "name": "python",
   "nbconvert_exporter": "python",
   "pygments_lexer": "ipython3",
   "version": "3.5.2"
  }
 },
 "nbformat": 4,
 "nbformat_minor": 2
}
