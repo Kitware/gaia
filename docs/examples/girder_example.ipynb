{
 "cells": [
  {
   "cell_type": "code",
   "execution_count": 1,
   "metadata": {},
   "outputs": [],
   "source": [
    "import geojson\n",
    "\n",
    "import gaia\n",
    "\n",
    "# Initialize Girder connection\n",
    "apikey = 'LcxASyej0yUl9Pr7mgAmf3kj2a7a92SsemTln8ps'\n",
    "datastore = gaia.connect(apikey=apikey)"
   ]
  },
  {
   "cell_type": "code",
   "execution_count": 4,
   "metadata": {},
   "outputs": [
    {
     "name": "stdout",
     "output_type": "stream",
     "text": [
      "tiles_url http://localhost:8989/api/v1/item/5bca474261700e00077b2220/tiles/zxy/{z}/{x}/{y}?encoding=PNG&projection=EPSG:3857&style=%7B%22band%22%3A+1%2C+%22min%22%3A+2000%2C+%22scheme%22%3A+%22linear%22%2C+%22palette%22%3A+%22matplotlib.Plasma_6%22%2C+%22max%22%3A+5000%7D\n"
     ]
    },
    {
     "data": {
      "application/vnd.jupyter.widget-view+json": {
       "model_id": "d3b903f1ce644782a81cd27e5ec26ece",
       "version_major": 2,
       "version_minor": 0
      },
      "text/plain": [
       "scene(center={'x': -106.9669195224971, 'y': 39.03667206832321}, layout=Layout(align_self='stretch', height='40…"
      ]
     },
     "metadata": {},
     "output_type": "display_data"
    }
   ],
   "source": [
    "# Create gaia dataset for girder-hosted file\n",
    "girder_path = 'Public/DEM_bare_earth.tif'  # (~4GB)\n",
    "\n",
    "# API option 1: create internal url\n",
    "datastore_url = datastore.lookup_url(girder_path)\n",
    "# print('datastore url:', datastore_url)\n",
    "dataset = gaia.create(datastore_url)\n",
    "\n",
    "# API option 2: pass in tuple as the data source\n",
    "# data_source = (datastore, 'Public/DEM_bare_earth.tif')\n",
    "# dataset = gaia.create(data_source)\n",
    "\n",
    "# Todo is there a better api for these options?\n",
    "dataset.set_opacity(0.5)\n",
    "dataset.set_mapnik_style({\n",
    "    'band': 1,\n",
    "    'max': 5000,\n",
    "    'min': 2000,\n",
    "    'palette': 'matplotlib.Plasma_6',\n",
    "    'scheme': 'linear',\n",
    "})\n",
    "\n",
    "\n",
    "# meta = dataset.get_metadata()\n",
    "# import json\n",
    "# # print(json.dumps(meta, sort_keys=True, indent=2))\n",
    "# print('Input dataset width: {}, height: {}'.format(meta['width'], meta['height']))\n",
    "#gaia.show(dataset, representation='outline')\n",
    "scene = gaia.show(dataset)\n",
    "scene.zoom = 10\n",
    "display(scene)"
   ]
  },
  {
   "cell_type": "code",
   "execution_count": 5,
   "metadata": {},
   "outputs": [
    {
     "data": {
      "application/vnd.jupyter.widget-view+json": {
       "model_id": "9785c2558cf4461ca2d1c1caf5d93d1b",
       "version_major": 2,
       "version_minor": 0
      },
      "text/plain": [
       "FloatSlider(value=10.0, layout=Layout(width='95%'), max=16.0, min=1.0)"
      ]
     },
     "metadata": {},
     "output_type": "display_data"
    }
   ],
   "source": [
    "import ipywidgets as widgets\n",
    "z = widgets.FloatSlider(min=1, max=16, value=10, layout=dict(width='95%'))\n",
    "newlink = widgets.jslink((z, 'value'), (scene, 'zoom'))\n",
    "display(z)"
   ]
  },
  {
   "cell_type": "code",
   "execution_count": 5,
   "metadata": {},
   "outputs": [
    {
     "name": "stdout",
     "output_type": "stream",
     "text": [
      "\n",
      "{\"coordinates\": [[[-106.9669195224971, 38.94564248418757], [-106.9669195224971, 38.944732188346215], [-106.96771495471891, 38.944732188346215], [-106.96771495471891, 38.94564248418757], [-106.9669195224971, 38.94564248418757]]], \"type\": \"Polygon\"}\n"
     ]
    }
   ],
   "source": [
    "# Generate small crop geometry\n",
    "bounds = meta.get('bounds',{}).get('coordinates')[0]\n",
    "assert bounds, 'Dataset bounds missing'\n",
    "# print()\n",
    "# print(bounds)\n",
    "\n",
    "# Compute center coordinates\n",
    "x = (bounds[0][0] + bounds[2][0]) / 2.0\n",
    "y = (bounds[0][1] + bounds[2][1]) / 2.0\n",
    "\n",
    "# Use smll percentage of height & width\n",
    "dx = 0.005 * (bounds[2][0] - bounds[0][0])\n",
    "dy = 0.005 * (bounds[2][1] - bounds[0][1])\n",
    "rect = [\n",
    "    [x,y], [x, y-dy], [x-dx, y-dy], [x-dx, y], [x,y]\n",
    "]\n",
    "# print()\n",
    "# print(rect)\n",
    "\n",
    "# Must pass rectangle in as a LIST, in order to get geom formatted the way resgeodata uses\n",
    "crop_geom = geojson.Polygon([rect])\n",
    "print()\n",
    "print(crop_geom)"
   ]
  },
  {
   "cell_type": "code",
   "execution_count": 6,
   "metadata": {},
   "outputs": [
    {
     "name": "stdout",
     "output_type": "stream",
     "text": [
      "Deleting existing (item crop100m.tif)\n",
      " 1 Checking job 5bccefd161700e013c22a54c status... 2\n",
      " 2 Checking job 5bccefd161700e013c22a54c status... 2\n",
      " 3 Checking job 5bccefd161700e013c22a54c status... 2\n",
      " 4 Checking job 5bccefd161700e013c22a54c status... 2\n",
      " 5 Checking job 5bccefd161700e013c22a54c status... 2\n",
      " 6 Checking job 5bccefd161700e013c22a54c status... 2\n",
      " 7 Checking job 5bccefd161700e013c22a54c status... 2\n",
      " 8 Checking job 5bccefd161700e013c22a54c status... 2\n",
      " 9 Checking job 5bccefd161700e013c22a54c status... 2\n",
      "10 Checking job 5bccefd161700e013c22a54c status... 2\n",
      "11 Checking job 5bccefd161700e013c22a54c status... 2\n",
      "12 Checking job 5bccefd161700e013c22a54c status... 2\n",
      "13 Checking job 5bccefd161700e013c22a54c status... 3\n"
     ]
    }
   ],
   "source": [
    "# Crop the dataset\n",
    "from gaia import preprocess\n",
    "cropped_dataset = preprocess.crop2(dataset, crop_geom, name='crop100m.tif')"
   ]
  },
  {
   "cell_type": "code",
   "execution_count": 7,
   "metadata": {},
   "outputs": [
    {
     "name": "stdout",
     "output_type": "stream",
     "text": [
      "\n",
      "Cropped dataset width 143, height 207\n"
     ]
    }
   ],
   "source": [
    "print()\n",
    "cropped_meta = cropped_dataset.get_metadata()\n",
    "print('Cropped dataset width {}, height {}'.format(\n",
    "    cropped_meta['width'], cropped_meta['height']))\n",
    "#print(cropped_meta)"
   ]
  },
  {
   "cell_type": "code",
   "execution_count": 8,
   "metadata": {},
   "outputs": [
    {
     "name": "stdout",
     "output_type": "stream",
     "text": [
      "In createFeature\n"
     ]
    },
    {
     "data": {
      "application/vnd.jupyter.widget-view+json": {
       "model_id": "aaf4ffad294542b2b558f21e501e97c6",
       "version_major": 2,
       "version_minor": 0
      },
      "text/plain": [
       "scene(center={'y': 38.945660385510074, 'x': -106.96731536343347}, layout=Layout(align_self='stretch', height='…"
      ]
     },
     "metadata": {},
     "output_type": "display_data"
    }
   ],
   "source": [
    "# Todo Update gaia.show() for girder-resident datasets\n",
    "scene = gaia.show(cropped_dataset, representation=\"outline\")\n",
    "scene.zoom = 11\n",
    "scene"
   ]
  },
  {
   "cell_type": "code",
   "execution_count": null,
   "metadata": {},
   "outputs": [],
   "source": []
  }
 ],
 "metadata": {
  "kernelspec": {
   "display_name": "Python 3",
   "language": "python",
   "name": "python3"
  },
  "language_info": {
   "codemirror_mode": {
    "name": "ipython",
    "version": 3
   },
   "file_extension": ".py",
   "mimetype": "text/x-python",
   "name": "python",
   "nbconvert_exporter": "python",
   "pygments_lexer": "ipython3",
   "version": "3.5.2"
  }
 },
 "nbformat": 4,
 "nbformat_minor": 2
}
