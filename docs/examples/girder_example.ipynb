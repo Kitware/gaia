{
 "cells": [
  {
   "cell_type": "code",
   "execution_count": 1,
   "metadata": {},
   "outputs": [
    {
     "name": "stdout",
     "output_type": "stream",
     "text": [
      "default_folder: {'size': 0, 'parentCollection': 'folder', 'baseParentId': '5bb7d66f3b4e9a0007762157', 'created': '2018-10-05T22:09:59.398000+00:00', 'updated': '2018-10-05T22:09:59.398000+00:00', 'parentId': '5bb7e0e23b4e9a013ce51766', '_id': '5bb7e1373b4e9a013ce51767', '_accessLevel': 2, 'baseParentType': 'user', 'description': 'Created by Gaia', 'creatorId': '5bb7d66f3b4e9a0007762157', '_modelType': 'folder', 'public': False, 'name': 'default'}\n"
     ]
    }
   ],
   "source": [
    "import geojson\n",
    "\n",
    "import gaia\n",
    "\n",
    "# Initialize Girder connection\n",
    "apikey = 'bimEnIEt2RU8U1GqJKkqeJ5G5eH36kTSHGLjaUeA'\n",
    "datastore = gaia.connect(apikey=apikey)\n"
   ]
  },
  {
   "cell_type": "code",
   "execution_count": 2,
   "metadata": {},
   "outputs": [
    {
     "name": "stdout",
     "output_type": "stream",
     "text": [
      "datastore url: girder://item/5bb7d7533b4e9a0007762163\n"
     ]
    },
    {
     "name": "stderr",
     "output_type": "stream",
     "text": [
      "/usr/lib/python3.5/importlib/_bootstrap.py:222: RuntimeWarning: numpy.dtype size changed, may indicate binary incompatibility. Expected 96, got 88\n",
      "  return f(*args, **kwds)\n"
     ]
    },
    {
     "name": "stdout",
     "output_type": "stream",
     "text": [
      "\n",
      "Input dataset width: 28448, height: 39816\n"
     ]
    },
    {
     "data": {
      "application/geojs+json": {
       "layers": [
        {
         "layerType": "osm",
         "options": {}
        },
        {
         "features": [
          {
           "data": {
            "features": [
             {
              "geometry": {
               "coordinates": [
                [
                 [
                  -107.04646274467903,
                  38.854612900051926
                 ],
                 [
                  -106.88737630031515,
                  38.854612900051926
                 ],
                 [
                  -106.88737630031515,
                  39.03667206832321
                 ],
                 [
                  -107.04646274467903,
                  39.03667206832321
                 ],
                 [
                  -107.04646274467903,
                  38.854612900051926
                 ]
                ]
               ],
               "type": "Polygon"
              },
              "properties": {},
              "type": "Feature"
             }
            ],
            "type": "FeatureCollection"
           },
           "featureType": "geojson",
           "options": {
            "representation": "outline"
           }
          }
         ],
         "layerType": "feature",
         "options": {}
        }
       ],
       "options": {
        "center": {
         "x": 0,
         "y": 0,
         "z": 0
        },
        "node": {
         "jQuery3310160323959831754181": {
          "events": {
           "contextmenu": [
            {
             "guid": 184,
             "namespace": "geojs",
             "origType": "contextmenu",
             "type": "contextmenu"
            }
           ],
           "dragover": [
            {
             "guid": 177,
             "namespace": "geo",
             "origType": "dragover",
             "type": "dragover"
            }
           ],
           "dragstart": [
            {
             "guid": 183,
             "namespace": "",
             "origType": "dragstart",
             "type": "dragstart"
            }
           ],
           "drop": [
            {
             "guid": 178,
             "namespace": "geo",
             "origType": "drop",
             "type": "drop"
            }
           ],
           "mousedown": [
            {
             "guid": 181,
             "namespace": "geojs",
             "origType": "mousedown",
             "type": "mousedown"
            }
           ],
           "mousemove": [
            {
             "guid": 180,
             "namespace": "geojs",
             "origType": "mousemove",
             "type": "mousemove"
            }
           ],
           "mouseup": [
            {
             "guid": 182,
             "namespace": "geojs",
             "origType": "mouseup",
             "type": "mouseup"
            }
           ],
           "wheel": [
            {
             "guid": 179,
             "namespace": "geojs",
             "origType": "wheel",
             "type": "wheel"
            }
           ]
          }
         },
         "jQuery3310160323959831754182": {
          "dataGeojsMap": {}
         }
        },
        "representation": "outline"
       },
       "viewpoint": {
        "bounds": {
         "bottom": 38.854612900051926,
         "left": -107.04646274467903,
         "right": -106.88737630031515,
         "top": 39.03667206832321
        },
        "mode": "bounds"
       }
      },
      "text/plain": [
       "<jupyterlab_geojs.Scene object>"
      ]
     },
     "metadata": {
      "application/geojs+json": {
       "expanded": false
      }
     },
     "output_type": "display_data"
    }
   ],
   "source": [
    "import json\n",
    "\n",
    "# Create gaia dataset for girder-hosted file\n",
    "path = 'Public/DEM_bare_earth.tif'  # (~4GB)\n",
    "\n",
    "# API option 1: create internal url\n",
    "datastore_url = datastore.lookup_url('Public/DEM_bare_earth.tif')\n",
    "print('datastore url:', datastore_url)\n",
    "dataset = gaia.create(datastore_url)\n",
    "\n",
    "# API option 2: pass in tuple as the data source\n",
    "# data_source = (datastore, 'Public/DEM_bare_earth.tif')\n",
    "# dataset = gaia.create(data_source)\n",
    "\n",
    "meta = dataset.get_metadata()\n",
    "print()\n",
    "#print(json.dumps(meta, sort_keys=True, indent=2))\n",
    "print('Input dataset width: {}, height: {}'.format(meta['width'], meta['height']))\n",
    "gaia.show(dataset, representation='outline')"
   ]
  },
  {
   "cell_type": "code",
   "execution_count": 3,
   "metadata": {},
   "outputs": [
    {
     "name": "stdout",
     "output_type": "stream",
     "text": [
      "\n",
      "{\"coordinates\": [[[-106.9669195224971, 38.94564248418757], [-106.9669195224971, 38.944732188346215], [-106.96771495471891, 38.944732188346215], [-106.96771495471891, 38.94564248418757], [-106.9669195224971, 38.94564248418757]]], \"type\": \"Polygon\"}\n"
     ]
    }
   ],
   "source": [
    "# Generate small crop geometry\n",
    "bounds = meta.get('bounds',{}).get('coordinates')[0]\n",
    "assert bounds, 'Dataset bounds missing'\n",
    "# print()\n",
    "# print(bounds)\n",
    "\n",
    "# Compute center coordinates\n",
    "x = (bounds[0][0] + bounds[2][0]) / 2.0\n",
    "y = (bounds[0][1] + bounds[2][1]) / 2.0\n",
    "\n",
    "# Use smll percentage of height & width\n",
    "dx = 0.005 * (bounds[2][0] - bounds[0][0])\n",
    "dy = 0.005 * (bounds[2][1] - bounds[0][1])\n",
    "rect = [\n",
    "    [x,y], [x, y-dy], [x-dx, y-dy], [x-dx, y], [x,y]\n",
    "]\n",
    "# print()\n",
    "# print(rect)\n",
    "\n",
    "# Must pass rectangle in as a LIST, in order to get geom formatted the way resgeodata uses\n",
    "crop_geom = geojson.Polygon([rect])\n",
    "print()\n",
    "print(crop_geom)\n"
   ]
  },
  {
   "cell_type": "code",
   "execution_count": 5,
   "metadata": {},
   "outputs": [
    {
     "name": "stdout",
     "output_type": "stream",
     "text": [
      "results_folder_id 5bb7e1373b4e9a013ce51767\n",
      "<generator object GirderClient.listResource at 0x7f1990e8dbf8>\n",
      "Deleting existing (item crop100m.tif)\n",
      " 1 Checking job 5bb7e3b03b4e9a013ce51770 status... 2\n",
      " 2 Checking job 5bb7e3b03b4e9a013ce51770 status... 2\n",
      " 3 Checking job 5bb7e3b03b4e9a013ce51770 status... 2\n",
      " 4 Checking job 5bb7e3b03b4e9a013ce51770 status... 2\n",
      " 5 Checking job 5bb7e3b03b4e9a013ce51770 status... 2\n",
      " 6 Checking job 5bb7e3b03b4e9a013ce51770 status... 2\n",
      " 7 Checking job 5bb7e3b03b4e9a013ce51770 status... 2\n",
      " 8 Checking job 5bb7e3b03b4e9a013ce51770 status... 2\n",
      " 9 Checking job 5bb7e3b03b4e9a013ce51770 status... 3\n"
     ]
    }
   ],
   "source": [
    "# Crop the dataset\n",
    "from gaia import preprocess\n",
    "cropped_dataset = preprocess.crop2(dataset, crop_geom, name='crop100m.tif')"
   ]
  },
  {
   "cell_type": "code",
   "execution_count": 6,
   "metadata": {},
   "outputs": [
    {
     "name": "stdout",
     "output_type": "stream",
     "text": [
      "\n",
      "Cropped dataset width 143, height 207\n"
     ]
    }
   ],
   "source": [
    "print()\n",
    "cropped_meta = cropped_dataset.get_metadata()\n",
    "print('Cropped dataset width {}, height {}'.format(\n",
    "    cropped_meta['width'], cropped_meta['height']))\n",
    "#print(cropped_meta)"
   ]
  },
  {
   "cell_type": "code",
   "execution_count": 7,
   "metadata": {},
   "outputs": [
    {
     "data": {
      "application/geojs+json": {
       "layers": [
        {
         "layerType": "osm",
         "options": {}
        },
        {
         "features": [
          {
           "data": {
            "features": [
             {
              "geometry": {
               "coordinates": [
                [
                 [
                  -106.96771477226267,
                  38.94471434881977
                 ],
                 [
                  -106.96691595460426,
                  38.94471434881977
                 ],
                 [
                  -106.96691595460426,
                  38.945660385510074
                 ],
                 [
                  -106.96771477226267,
                  38.945660385510074
                 ],
                 [
                  -106.96771477226267,
                  38.94471434881977
                 ]
                ]
               ],
               "type": "Polygon"
              },
              "properties": {},
              "type": "Feature"
             }
            ],
            "type": "FeatureCollection"
           },
           "featureType": "geojson",
           "options": {
            "representation": "outline"
           }
          }
         ],
         "layerType": "feature",
         "options": {}
        }
       ],
       "options": {
        "center": {
         "x": 0,
         "y": 0,
         "z": 0
        },
        "node": {
         "jQuery3310160323959831754181": {
          "events": {
           "contextmenu": [
            {
             "guid": 206,
             "namespace": "geojs",
             "origType": "contextmenu",
             "type": "contextmenu"
            }
           ],
           "dragover": [
            {
             "guid": 199,
             "namespace": "geo",
             "origType": "dragover",
             "type": "dragover"
            }
           ],
           "dragstart": [
            {
             "guid": 205,
             "namespace": "",
             "origType": "dragstart",
             "type": "dragstart"
            }
           ],
           "drop": [
            {
             "guid": 200,
             "namespace": "geo",
             "origType": "drop",
             "type": "drop"
            }
           ],
           "mousedown": [
            {
             "guid": 203,
             "namespace": "geojs",
             "origType": "mousedown",
             "type": "mousedown"
            }
           ],
           "mousemove": [
            {
             "guid": 202,
             "namespace": "geojs",
             "origType": "mousemove",
             "type": "mousemove"
            }
           ],
           "mouseup": [
            {
             "guid": 204,
             "namespace": "geojs",
             "origType": "mouseup",
             "type": "mouseup"
            }
           ],
           "wheel": [
            {
             "guid": 201,
             "namespace": "geojs",
             "origType": "wheel",
             "type": "wheel"
            }
           ]
          }
         },
         "jQuery3310160323959831754182": {
          "dataGeojsMap": {}
         }
        },
        "representation": "outline"
       },
       "viewpoint": {
        "bounds": {
         "bottom": 38.94471434881977,
         "left": -106.96771477226267,
         "right": -106.96691595460426,
         "top": 38.945660385510074
        },
        "mode": "bounds"
       }
      },
      "text/plain": [
       "<jupyterlab_geojs.Scene object>"
      ]
     },
     "metadata": {
      "application/geojs+json": {
       "expanded": false
      }
     },
     "output_type": "display_data"
    }
   ],
   "source": [
    "# Todo Update gaia.show() for girder-resident datasets\n",
    "scene = gaia.show(cropped_dataset, representation=\"outline\")\n",
    "scene"
   ]
  },
  {
   "cell_type": "code",
   "execution_count": null,
   "metadata": {},
   "outputs": [],
   "source": []
  }
 ],
 "metadata": {
  "kernelspec": {
   "display_name": "Python 3",
   "language": "python",
   "name": "python3"
  },
  "language_info": {
   "codemirror_mode": {
    "name": "ipython",
    "version": 3
   },
   "file_extension": ".py",
   "mimetype": "text/x-python",
   "name": "python",
   "nbconvert_exporter": "python",
   "pygments_lexer": "ipython3",
   "version": "3.5.2"
  }
 },
 "nbformat": 4,
 "nbformat_minor": 2
}
