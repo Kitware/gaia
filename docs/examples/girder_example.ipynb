{
 "cells": [
  {
   "cell_type": "code",
   "execution_count": null,
   "metadata": {},
   "outputs": [],
   "source": [
    "import json\n",
    "import geojson  # to create crop geometry\n",
    "import gaia\n",
    "\n",
    "# Todo? gaia.reset()\n",
    "\n",
    "# Initialize Girder connection\n",
    "apikey = 'SJoYVdAJdWIockqNdeckt1f7W6JU6Lxou4eYW3ym'\n",
    "datastore = gaia.connect(apikey=apikey)"
   ]
  },
  {
   "cell_type": "code",
   "execution_count": null,
   "metadata": {},
   "outputs": [],
   "source": [
    "# Create gaia dataset for girder-hosted file\n",
    "girder_path = 'Public/DEM_bare_earth.tif'  # (~4GB)\n",
    "\n",
    "# API option 1: create internal url\n",
    "datastore_url = datastore.lookup_url(girder_path)\n",
    "dataset = gaia.create(datastore_url)\n",
    "\n",
    "# API option 2: pass in tuple as the data source\n",
    "# data_source = (datastore, 'Public/DEM_bare_earth.tif')\n",
    "# dataset = gaia.create(data_source)\n",
    "\n",
    "# Todo is there a better api for these options?\n",
    "dataset.opacity = 0.5\n",
    "dataset.set_mapnik_style({\n",
    "    'band': 1,\n",
    "    'max': 5000,\n",
    "    'min': 2000,\n",
    "    'palette': 'matplotlib.Plasma_6',\n",
    "    'scheme': 'linear',\n",
    "})\n",
    "\n",
    "scene = gaia.show(dataset)\n",
    "display(scene)"
   ]
  },
  {
   "cell_type": "code",
   "execution_count": null,
   "metadata": {},
   "outputs": [],
   "source": [
    "import ipywidgets as widgets\n",
    "z = widgets.FloatSlider(min=1, max=16, value=scene.zoom, layout=dict(width='95%'))"
   ]
  },
  {
   "cell_type": "code",
   "execution_count": null,
   "metadata": {},
   "outputs": [],
   "source": [
    "newlink = widgets.jslink((z, 'value'), (scene, 'zoom'))\n",
    "display(z)"
   ]
  },
  {
   "cell_type": "code",
   "execution_count": null,
   "metadata": {},
   "outputs": [],
   "source": [
    "# Generate small crop geometry\n",
    "meta = dataset.get_metadata()\n",
    "bounds = meta.get('bounds',{}).get('coordinates')[0]\n",
    "assert bounds, 'Dataset bounds missing'\n",
    "# print()\n",
    "# print(bounds)\n",
    "\n",
    "# Compute center coordinates\n",
    "x = (bounds[0][0] + bounds[2][0]) / 2.0\n",
    "y = (bounds[0][1] + bounds[2][1]) / 2.0\n",
    "\n",
    "# Use smll percentage of height & width\n",
    "dx = 0.02 * (bounds[2][0] - bounds[0][0])\n",
    "dy = 0.02 * (bounds[2][1] - bounds[0][1])\n",
    "poly = [\n",
    "    [x,y], [x+dx,y+dy], [x-dx,y+dy], [x-dx,y-dy], [x+dx,y-dy]\n",
    "]\n",
    "\n",
    "# Must pass rectangle in as a LIST, in order to get geom formatted the way resgeodata uses\n",
    "crop_geom = geojson.Polygon([poly])\n",
    "print()\n",
    "print(crop_geom)"
   ]
  },
  {
   "cell_type": "code",
   "execution_count": null,
   "metadata": {},
   "outputs": [],
   "source": [
    "# Crop the dataset\n",
    "from gaia import preprocess\n",
    "cropped_dataset = preprocess.crop(dataset, crop_geom, name='crop100m.tif')\n",
    "# Todo output should say \"job started\" or something like that\n",
    "# Todo get resonantgeodata to NOT copy source image"
   ]
  },
  {
   "cell_type": "code",
   "execution_count": null,
   "metadata": {},
   "outputs": [],
   "source": [
    "# Todo handle \"pending\" datasets\n",
    "print()\n",
    "cropped_meta = cropped_dataset.get_metadata()\n",
    "print('Cropped dataset width {}, height {}'.format(\n",
    "    cropped_meta['width'], cropped_meta['height']))\n",
    "#print(cropped_meta)"
   ]
  },
  {
   "cell_type": "code",
   "execution_count": null,
   "metadata": {},
   "outputs": [],
   "source": [
    "#scene = gaia.show(cropped_dataset, representation=\"outline\")\n",
    "cropped_dataset.opacity = 0.9\n",
    "dataset.opacity= 0.1\n",
    "scene = gaia.show([cropped_dataset, dataset])\n",
    "display(scene)"
   ]
  },
  {
   "cell_type": "code",
   "execution_count": null,
   "metadata": {},
   "outputs": [],
   "source": [
    "import ipywidgets as widgets\n",
    "z = widgets.FloatSlider(min=1, max=16, value=scene.zoom, layout=dict(width='95%'))"
   ]
  },
  {
   "cell_type": "code",
   "execution_count": null,
   "metadata": {},
   "outputs": [],
   "source": [
    "newlink = widgets.jslink((z, 'value'), (scene, 'zoom'))\n",
    "display(z)"
   ]
  },
  {
   "cell_type": "code",
   "execution_count": null,
   "metadata": {},
   "outputs": [],
   "source": [
    "crop_feature = geojson.Feature(geometry=crop_geom)\n",
    "fc = geojson.FeatureCollection([crop_feature])\n",
    "fc"
   ]
  },
  {
   "cell_type": "code",
   "execution_count": null,
   "metadata": {},
   "outputs": [],
   "source": [
    "fc_string = geojson.dumps(fc, sort_keys=True)\n",
    "#fc_string\n",
    "filename = 'crop_geometry.geojson'\n",
    "with open(filename, 'w') as f:\n",
    "    f.write(fc_string)\n"
   ]
  },
  {
   "cell_type": "code",
   "execution_count": null,
   "metadata": {},
   "outputs": [],
   "source": []
  }
 ],
 "metadata": {
  "kernelspec": {
   "display_name": "Python 3",
   "language": "python",
   "name": "python3"
  },
  "language_info": {
   "codemirror_mode": {
    "name": "ipython",
    "version": 3
   },
   "file_extension": ".py",
   "mimetype": "text/x-python",
   "name": "python",
   "nbconvert_exporter": "python",
   "pygments_lexer": "ipython3",
   "version": "3.5.2"
  }
 },
 "nbformat": 4,
 "nbformat_minor": 2
}
