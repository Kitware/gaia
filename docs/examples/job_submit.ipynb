{
 "cells": [
  {
   "cell_type": "code",
   "execution_count": 1,
   "metadata": {},
   "outputs": [],
   "source": [
    "# Set NEWT session id\n",
    "newt_sessionid = '57311ce617ff392d7b6cb6104b0a18dc'\n",
    "nersc_repository = None"
   ]
  },
  {
   "cell_type": "code",
   "execution_count": 2,
   "metadata": {},
   "outputs": [],
   "source": [
    "# Load Gaia and connect to girder using NEWT session id\n",
    "import geolib\n",
    "girder = geolib.connect(girder_url='http://turtleland4:8080', newt_sessionid=newt_sessionid)\n"
   ]
  },
  {
   "cell_type": "code",
   "execution_count": 3,
   "metadata": {},
   "outputs": [],
   "source": [
    "# Todo select item from ESS-DIVE\n",
    "\n",
    "# As a surrogate, use file that was uploaded manually\n",
    "resource_type = 'item'\n",
    "resource_id = '5c88076206a1b5013e1c6d77'    # /user/admin/Public/local/SFBay_grayscale.tif\n",
    "girder_url = 'girder://{}/{}'.format(resource_type, resource_id)\n",
    "\n",
    "essdive_object = geolib.create(girder_url)\n"
   ]
  },
  {
   "cell_type": "code",
   "execution_count": 4,
   "metadata": {},
   "outputs": [
    {
     "data": {
      "application/vnd.jupyter.widget-view+json": {
       "model_id": "0a92dd2598fd4897bfe8b0d3c5c43211",
       "version_major": 2,
       "version_minor": 0
      },
      "text/plain": [
       "scene(center={'x': 0.0, 'y': 0.0}, layout=Layout(align_self='stretch', height='400px'))"
      ]
     },
     "metadata": {},
     "output_type": "display_data"
    }
   ],
   "source": [
    "# Get bounds\n",
    "# metadata = essdive_object.get_metadata()\n",
    "metadata = {\n",
    " 'bounds': {'coordinates': [[[-122.71879201711467, 37.45219874192699],\n",
    "    [-122.71879201711467, 38.052231141926995],\n",
    "    [-122.11875961711466, 38.052231141926995],\n",
    "    [-122.11875961711466, 37.45219874192699],\n",
    "    [-122.71879201711467, 37.45219874192699]]],\n",
    "  'type': 'Polygon'},\n",
    " 'height': 4323,\n",
    " 'width': 4323}\n",
    "\n",
    "# Create polygon to display bounds\n",
    "bounds = metadata.get('bounds')\n",
    "coordinates = bounds.get('coordinates')\n",
    "import geojson\n",
    "geometry = geojson.Polygon(coordinates)\n",
    "essdive_feature = geojson.Feature(geometry=geometry, properties={'fillColor': 'black', 'fillOpacity': 0.2})\n",
    "essdive_object = geolib.create(essdive_feature)\n",
    "\n",
    "# Generate small crop geometry\n",
    "bounds  = coordinates\n",
    "bounds = bounds[0]\n",
    "x = (bounds[0][0] + bounds[2][0]) / 2.0\n",
    "y = (bounds[0][1] + bounds[2][1]) / 2.0\n",
    "\n",
    "# Use small percentage of height & width\n",
    "dx = 0.12 * (bounds[2][0] - bounds[0][0])\n",
    "dy = 0.16 * (bounds[2][1] - bounds[0][1])\n",
    "poly = [[\n",
    "    [x,y], [x+dx,y+dy], [x-dx,y+dy], [x-dx,y-dy], [x+dx,y-dy]\n",
    "]]\n",
    "geometry = geojson.Polygon(poly)\n",
    "crop_feature = geojson.Feature(geometry=geometry, properties={'fillColor': 'magenta', 'fillOpacity': 0.5})\n",
    "crop_object = geolib.create(crop_feature)\n",
    "\n",
    "scene1 = geolib.show([crop_object, essdive_object])\n",
    "display(scene1)\n"
   ]
  },
  {
   "cell_type": "code",
   "execution_count": 5,
   "metadata": {},
   "outputs": [
    {
     "data": {
      "application/vnd.jupyter.widget-view+json": {
       "model_id": "c11bbef3782f4beea50c5fabe39b5905",
       "version_major": 2,
       "version_minor": 0
      },
      "text/plain": [
       "FloatSlider(value=9.328175, layout=Layout(width='95%'), max=16.0, min=1.0)"
      ]
     },
     "metadata": {},
     "output_type": "display_data"
    }
   ],
   "source": [
    "import ipywidgets as widgets\n",
    "z = widgets.FloatSlider(min=1, max=16, value=scene1.zoom, layout=dict(width='95%'))\n",
    "newlink = widgets.jslink((z, 'value'), (scene1, 'zoom'))\n",
    "display(z)"
   ]
  },
  {
   "cell_type": "code",
   "execution_count": 6,
   "metadata": {},
   "outputs": [
    {
     "name": "stdin",
     "output_type": "stream",
     "text": [
      "Enter NERSC repository (account):  ·····\n"
     ]
    },
    {
     "name": "stdout",
     "output_type": "stream",
     "text": [
      "(CumulusClient) ginterface <gaia.io.girder_interface.GirderInterface object at 0x7f2b4ffac828>\n",
      "(CumulusClient) gclient <girder_client.GirderClient object at 0x7f2b4ffac7b8>\n",
      "set girder_client <girder_client.GirderClient object at 0x7f2b4ffac7b8>\n",
      "user {'groups': [], 'emailVerified': True, 'status': 'enabled', 'created': '2018-01-18T18:39:26.139000+00:00', 'lastName': 'Tourtellott', '_id': '5a60e9de0640fd01195132e4', 'groupInvites': [], 'email': 'john.tourtellott@kitware.com', '_accessLevel': 2, 'login': 'johnt', 'size': 1125529012, 'public': True, '_modelType': 'user', 'admin': True, 'firstName': 'John'}\n",
      "private_folder_id 5a60e9de0640fd01195132e6\n",
      "checking girder_client <girder_client.GirderClient object at 0x7f2b4ffac7b8>\n",
      "Creating cluster on cori\n",
      "status created\n",
      "status running\n",
      "Creating SLURM script geolib\n",
      "script_id 5c8ad6ee0640fd012102b898\n",
      "Creating job geolib\n",
      "Created job folder 0ecff36a39f1463fb1dc7ae092e56780\n",
      "Created job_id 5c8ad6ef0640fd012102b89c\n",
      "Uploading geometry file\n",
      "Submitting job\n",
      "submit_job body: {'constraint': 'haswell', 'machine': 'cori', 'numberOfNodes': 1, 'account': 'm2690', 'maxWallTime': {'seconds': 0, 'hours': 0, 'minutes': 5}, 'jobOutputDir': '/global/cscratch1/sd/johnt/190314/geolib', 'queue': 'debug'}\n",
      "Submitted job 5c8ad6ef0640fd012102b89c\n"
     ]
    }
   ],
   "source": [
    "# To run on Girder:\n",
    "# cropped_object = gaia.crop(essdiv_object, crop_object)\n",
    "\n",
    "# To run on NERSC\n",
    "import getpass\n",
    "while not nersc_repository:\n",
    "    nersc_repository = getpass.getpass('Enter NERSC repository (account): ')\n",
    "cori_job = geolib.submit_crop(essdive_object, crop_object, nersc_repository)\n",
    "cori_job"
   ]
  },
  {
   "cell_type": "code",
   "execution_count": null,
   "metadata": {},
   "outputs": [],
   "source": []
  }
 ],
 "metadata": {
  "kernelspec": {
   "display_name": "Python 3",
   "language": "python",
   "name": "python3"
  },
  "language_info": {
   "codemirror_mode": {
    "name": "ipython",
    "version": 3
   },
   "file_extension": ".py",
   "mimetype": "text/x-python",
   "name": "python",
   "nbconvert_exporter": "python",
   "pygments_lexer": "ipython3",
   "version": "3.5.2"
  }
 },
 "nbformat": 4,
 "nbformat_minor": 2
}
