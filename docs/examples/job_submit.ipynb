{
 "cells": [
  {
   "cell_type": "markdown",
   "metadata": {},
   "source": [
    "# Configure GeoLib to use Girder & NERSC resources"
   ]
  },
  {
   "cell_type": "code",
   "execution_count": 1,
   "metadata": {},
   "outputs": [],
   "source": [
    "# Set NEWT session id\n",
    "newt_sessionid = '57311ce617ff392d7b6cb6104b0a18dc'\n",
    "nersc_repository = None"
   ]
  },
  {
   "cell_type": "code",
   "execution_count": 2,
   "metadata": {},
   "outputs": [],
   "source": [
    "# Load Gaia and connect to girder using NEWT session id\n",
    "import geolib\n",
    "girder = geolib.connect(girder_url='http://turtleland4:8080', newt_sessionid=newt_sessionid)"
   ]
  },
  {
   "cell_type": "markdown",
   "metadata": {},
   "source": [
    "# Select dataset from ESS-DIVE"
   ]
  },
  {
   "cell_type": "code",
   "execution_count": 3,
   "metadata": {},
   "outputs": [],
   "source": [
    "# Todo select item from ESS-DIVE\n",
    "\n",
    "# As a surrogate, use file that was uploaded manually\n",
    "resource_type = 'item'\n",
    "resource_id = '5c88076206a1b5013e1c6d77'    # /user/admin/Public/local/SFBay_grayscale.tif\n",
    "girder_url = 'girder://{}/{}'.format(resource_type, resource_id)\n",
    "\n",
    "essdive_object = geolib.create(girder_url)"
   ]
  },
  {
   "cell_type": "code",
   "execution_count": 4,
   "metadata": {},
   "outputs": [
    {
     "data": {
      "application/vnd.jupyter.widget-view+json": {
       "model_id": "780be96284e44d7abab76c12f750d8c6",
       "version_major": 2,
       "version_minor": 0
      },
      "text/plain": [
       "scene(center={'x': 0.0, 'y': 0.0}, layout=Layout(align_self='stretch', height='400px'))"
      ]
     },
     "metadata": {},
     "output_type": "display_data"
    }
   ],
   "source": [
    "# Get bounds\n",
    "# metadata = essdive_object.get_metadata()\n",
    "metadata = {\n",
    " 'bounds': {'coordinates': [[[-122.71879201711467, 37.45219874192699],\n",
    "    [-122.71879201711467, 38.052231141926995],\n",
    "    [-122.11875961711466, 38.052231141926995],\n",
    "    [-122.11875961711466, 37.45219874192699],\n",
    "    [-122.71879201711467, 37.45219874192699]]],\n",
    "  'type': 'Polygon'},\n",
    " 'height': 4323,\n",
    " 'width': 4323}\n",
    "\n",
    "# Create polygon to display bounds\n",
    "bounds = metadata.get('bounds')\n",
    "coordinates = bounds.get('coordinates')\n",
    "import geojson\n",
    "bounds_geometry = geojson.Polygon(coordinates)\n",
    "bounds_feature = geojson.Feature(geometry=bounds_geometry, properties={'fillColor': 'black', 'fillOpacity': 0.2})\n",
    "bounds_object = geolib.create(bounds_feature)\n",
    "\n",
    "# Generate small crop geometry\n",
    "coords = coordinates[0]\n",
    "xvals, yvals = zip(*coords)\n",
    "xmin = min(xvals); ymin = min(yvals)\n",
    "xmax = max(xvals); ymax = max(yvals)\n",
    "x = (xmin + xmax) / 2.0\n",
    "y = (ymin + ymax) / 2.0\n",
    "\n",
    "# Use small percentage of height & width\n",
    "dx = 0.12 * (xmax - xmin)\n",
    "dy = 0.16 * (ymax - ymin)\n",
    "poly = [[\n",
    "    [x,y], [x+dx,y+dy], [x-dx,y+dy], [x-dx,y-dy], [x+dx,y-dy]\n",
    "]]\n",
    "crop_geometry = geojson.Polygon(poly)\n",
    "crop_feature = geojson.Feature(geometry=crop_geometry, properties={'fillColor': 'magenta', 'fillOpacity': 0.5})\n",
    "crop_object = geolib.create(crop_feature)\n",
    "\n",
    "scene1 = geolib.show([crop_object, bounds_object])\n",
    "display(scene1)\n"
   ]
  },
  {
   "cell_type": "code",
   "execution_count": 5,
   "metadata": {},
   "outputs": [
    {
     "data": {
      "application/vnd.jupyter.widget-view+json": {
       "model_id": "b3656931854a471db70c1dffad6b900d",
       "version_major": 2,
       "version_minor": 0
      },
      "text/plain": [
       "FloatSlider(value=9.328175, layout=Layout(width='95%'), max=16.0, min=1.0)"
      ]
     },
     "metadata": {},
     "output_type": "display_data"
    }
   ],
   "source": [
    "import ipywidgets as widgets\n",
    "z = widgets.FloatSlider(min=1, max=16, value=scene1.zoom, layout=dict(width='95%'))\n",
    "newlink = widgets.jslink((z, 'value'), (scene1, 'zoom'))\n",
    "display(z)"
   ]
  },
  {
   "cell_type": "markdown",
   "metadata": {},
   "source": [
    "# Submit preprocesssing job on NERSC (Cori)"
   ]
  },
  {
   "cell_type": "code",
   "execution_count": 6,
   "metadata": {},
   "outputs": [
    {
     "name": "stdin",
     "output_type": "stream",
     "text": [
      "Enter NERSC repository (account):  ·····\n"
     ]
    },
    {
     "name": "stdout",
     "output_type": "stream",
     "text": [
      "user {'groups': [], 'status': 'enabled', 'size': 1125534158, 'emailVerified': True, 'login': 'johnt', 'lastName': 'Tourtellott', '_modelType': 'user', 'public': True, 'admin': True, 'groupInvites': [], 'email': 'john.tourtellott@kitware.com', '_id': '5a60e9de0640fd01195132e4', '_accessLevel': 2, 'created': '2018-01-18T18:39:26.139000+00:00', 'firstName': 'John'}\n",
      "Creating cluster on cori\n",
      "Creating SLURM script geolib\n",
      "script_id 5c8bec8b0640fd012102b8cd\n",
      "Creating job geolib\n",
      "Created job folder fac10aaefabc4903b07ce907dd79879c\n",
      "Created job_id 5c8bec8b0640fd012102b8d1\n",
      "Uploading geometry file\n",
      "Submitting job\n",
      "submit_job body: {'maxWallTime': {'minutes': 5, 'seconds': 0, 'hours': 0}, 'constraint': 'knl', 'numberOfNodes': 1, 'machine': 'cori', 'account': 'm2690', 'jobOutputDir': '/global/cscratch1/sd/johnt/geolib/190315/geolib', 'queue': 'debug'}\n",
      "Submitted job 5c8bec8b0640fd012102b8d1\n"
     ]
    },
    {
     "data": {
      "text/plain": [
       "'5c8bec8b0640fd012102b8d1'"
      ]
     },
     "execution_count": 6,
     "metadata": {},
     "output_type": "execute_result"
    }
   ],
   "source": [
    "# To run on Girder:\n",
    "# cropped_object = gaia.crop(essdive_object, crop_object)\n",
    "\n",
    "# To run on NERSC\n",
    "import getpass\n",
    "while not nersc_repository:\n",
    "    nersc_repository = getpass.getpass('Enter NERSC repository (account): ')\n",
    "cori_job = geolib.submit_crop(essdive_object, crop_object, nersc_repository)\n",
    "cori_job"
   ]
  },
  {
   "cell_type": "markdown",
   "metadata": {},
   "source": [
    "# Use job id to create GeoLib object"
   ]
  },
  {
   "cell_type": "code",
   "execution_count": 3,
   "metadata": {},
   "outputs": [
    {
     "name": "stdin",
     "output_type": "stream",
     "text": [
      "Enter girder job id:  5c8bec8b0640fd012102b8d1\n"
     ]
    }
   ],
   "source": [
    "job_id = input('Enter girder job id: ')"
   ]
  },
  {
   "cell_type": "code",
   "execution_count": 6,
   "metadata": {},
   "outputs": [
    {
     "name": "stdout",
     "output_type": "stream",
     "text": [
      "output_object <gaia.girder_data.GirderDataObject object at 0x7f0f1a3ac8d0>\n"
     ]
    }
   ],
   "source": [
    "geolib_url = girder.lookup_url(job_id=job_id)\n",
    "output_object = geolib.create(geolib_url)\n",
    "print('output_object', output_object)\n"
   ]
  },
  {
   "cell_type": "code",
   "execution_count": null,
   "metadata": {},
   "outputs": [],
   "source": [
    "# Todo - display cropped dataset - need girder instance with geometa and large-image\n",
    "# geolib.show(output_object)\n"
   ]
  }
 ],
 "metadata": {
  "kernelspec": {
   "display_name": "Python 3",
   "language": "python",
   "name": "python3"
  },
  "language_info": {
   "codemirror_mode": {
    "name": "ipython",
    "version": 3
   },
   "file_extension": ".py",
   "mimetype": "text/x-python",
   "name": "python",
   "nbconvert_exporter": "python",
   "pygments_lexer": "ipython3",
   "version": "3.5.2"
  }
 },
 "nbformat": 4,
 "nbformat_minor": 2
}
