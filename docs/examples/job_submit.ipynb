{
 "cells": [
  {
   "cell_type": "markdown",
   "metadata": {},
   "source": [
    "# 1. Configure GeoLib to use Girder & NERSC resources"
   ]
  },
  {
   "cell_type": "code",
   "execution_count": 1,
   "metadata": {},
   "outputs": [],
   "source": [
    "# Get NEWT session id\n",
    "import os\n",
    "newt_sessionid = open(os.path.expanduser('~/temp/newt_sessionid.txt')).read().strip()\n",
    "nersc_repository = None"
   ]
  },
  {
   "cell_type": "code",
   "execution_count": 2,
   "metadata": {},
   "outputs": [
    {
     "name": "stdout",
     "output_type": "stream",
     "text": [
      "{'output': '/global/cscratch1/sd/johnt', 'error': '', 'status': 'OK'}\n"
     ]
    }
   ],
   "source": [
    "# Load GeoLib and connect to girder using NEWT session id\n",
    "import geolib\n",
    "girder_url = 'http://turtleland4:8085'\n",
    "girder = geolib.connect(girder_url=girder_url, newt_sessionid=newt_sessionid)\n"
   ]
  },
  {
   "cell_type": "markdown",
   "metadata": {},
   "source": [
    "# 2. Select dataset from ESS-DIVE"
   ]
  },
  {
   "cell_type": "code",
   "execution_count": 3,
   "metadata": {},
   "outputs": [
    {
     "data": {
      "text/plain": [
       "[['2.1 MB', 'PH_community_distribution_map.tif'],\n",
       " ['8.5 MB', 'PH_plant_height_map.tif'],\n",
       " ['8.2 KB',\n",
       "  'Remote Sensing and Geophysical Characterization of a Floodplain-Hillslope System in the East River Watershed, Colorado.xml']]"
      ]
     },
     "execution_count": 3,
     "metadata": {},
     "output_type": "execute_result"
    }
   ],
   "source": [
    "girder.ls('/user/admin/Public')"
   ]
  },
  {
   "cell_type": "code",
   "execution_count": 4,
   "metadata": {},
   "outputs": [],
   "source": [
    "# Select item from ESS-DIVE\n",
    "\n",
    "girder_path = '/user/admin/Public/PH_community_distribution_map.tif'\n",
    "girder_url = girder.lookup_url(girder_path)\n",
    "essdive_object = geolib.create(girder_url)"
   ]
  },
  {
   "cell_type": "code",
   "execution_count": 5,
   "metadata": {},
   "outputs": [
    {
     "data": {
      "application/vnd.jupyter.widget-view+json": {
       "model_id": "f51827510e1340ddbb9720306317585d",
       "version_major": 2,
       "version_minor": 0
      },
      "text/plain": [
       "scene(center={'x': 0.0, 'y': 0.0}, layout=Layout(align_self='stretch', height='400px'))"
      ]
     },
     "metadata": {},
     "output_type": "display_data"
    }
   ],
   "source": [
    "# Fix metadata\n",
    "essdive_object._epsg = 4326\n",
    "essdive_object._setdatatype(geolib.types.RASTER)\n",
    "if girder_path.split('/')[-1] in ['PH_community_distribution_map.tif', 'PH_plant_height_map.tif']:\n",
    "    metadata = essdive_object.get_metadata()\n",
    "    essdive_object._metadata['bounds']['coordinates'] = [[\n",
    "        [-106.95242631255823, 38.92484206381101],\n",
    "        [-106.95224175189571, 38.91810990322611],\n",
    "        [-106.94362420673949, 38.91825374356009],\n",
    "        [-106.94380795397146, 38.92498593850482]\n",
    "    ]]\n",
    "\n",
    "essdive_object.opacity = 0.5\n",
    "geolib.show(essdive_object)"
   ]
  },
  {
   "cell_type": "markdown",
   "metadata": {},
   "source": [
    "# 3. Define Crop Geometry"
   ]
  },
  {
   "cell_type": "code",
   "execution_count": 6,
   "metadata": {},
   "outputs": [
    {
     "data": {
      "application/vnd.jupyter.widget-view+json": {
       "model_id": "d9f1d45b5f94471bbfcf610cb80e35cd",
       "version_major": 2,
       "version_minor": 0
      },
      "text/plain": [
       "scene(center={'x': 0.0, 'y': 0.0}, layout=Layout(align_self='stretch', height='400px'))"
      ]
     },
     "metadata": {},
     "output_type": "display_data"
    }
   ],
   "source": [
    "# Create polygon to display bounds\n",
    "bounds = essdive_object.get_metadata().get('bounds')\n",
    "coordinates = bounds.get('coordinates')\n",
    "import geojson\n",
    "bounds_geometry = geojson.Polygon(coordinates)\n",
    "bounds_feature = geojson.Feature(geometry=bounds_geometry, properties={'fillColor': 'black', 'fillOpacity': 0.2})\n",
    "bounds_object = geolib.create(bounds_feature)\n",
    "\n",
    "# Generate small crop geometry\n",
    "coords = coordinates[0]\n",
    "xvals, yvals = zip(*coords)\n",
    "xmin = min(xvals); ymin = min(yvals)\n",
    "xmax = max(xvals); ymax = max(yvals)\n",
    "x = (xmin + xmax) / 2.0\n",
    "y = (ymin + ymax) / 2.0\n",
    "\n",
    "# Use small percentage of height & width\n",
    "dx = 0.12 * (xmax - xmin)\n",
    "dy = 0.16 * (ymax - ymin)\n",
    "poly = [[\n",
    "    [x,y], [x+dx,y+dy], [x-dx,y+dy], [x-dx,y-dy], [x+dx,y-dy]\n",
    "]]\n",
    "crop_geometry = geojson.Polygon(poly)\n",
    "crop_feature = geojson.Feature(geometry=crop_geometry, properties={'fillColor': 'magenta', 'fillOpacity': 0.5})\n",
    "crop_object = geolib.create(crop_feature)\n",
    "\n",
    "scene1 = geolib.show([crop_object, bounds_object])\n",
    "display(scene1)"
   ]
  },
  {
   "cell_type": "code",
   "execution_count": 7,
   "metadata": {},
   "outputs": [
    {
     "data": {
      "application/vnd.jupyter.widget-view+json": {
       "model_id": "364b481804fc4a4d93036c95c5a13eea",
       "version_major": 2,
       "version_minor": 0
      },
      "text/plain": [
       "FloatSlider(value=15.5, layout=Layout(width='95%'), max=16.0, min=1.0)"
      ]
     },
     "metadata": {},
     "output_type": "display_data"
    }
   ],
   "source": [
    "import ipywidgets as widgets\n",
    "slider1 = widgets.FloatSlider(min=1, max=16, value=scene1.zoom, layout=dict(width='95%'))\n",
    "newlink = widgets.jslink((slider1, 'value'), (scene1, 'zoom'))\n",
    "display(slider1)"
   ]
  },
  {
   "cell_type": "markdown",
   "metadata": {},
   "source": [
    "# 4. Submit preprocesssing job on NERSC (Cori)"
   ]
  },
  {
   "cell_type": "code",
   "execution_count": null,
   "metadata": {},
   "outputs": [],
   "source": [
    "# To run on local machine or Girder:\n",
    "# output_object = geolib.crop(essdive_object, crop_object)\n",
    "nersc_repository = None\n",
    "# To run on NERSC:\n",
    "import getpass\n",
    "while not nersc_repository:\n",
    "    nersc_repository = getpass.getpass('Enter NERSC repository (account): ')\n",
    "cori_job = geolib.submit_crop(essdive_object, crop_object, nersc_repository)\n",
    "cori_job"
   ]
  },
  {
   "cell_type": "markdown",
   "metadata": {},
   "source": [
    "# 5. Use job id to create GeoLib object"
   ]
  },
  {
   "cell_type": "code",
   "execution_count": 9,
   "metadata": {},
   "outputs": [],
   "source": [
    "job_id = cori_job"
   ]
  },
  {
   "cell_type": "code",
   "execution_count": null,
   "metadata": {},
   "outputs": [],
   "source": [
    "job_id = '5c93c50ded1b6319b488e3dc'  # (PH_community_distribution_map.tif)\n",
    "\n",
    "girder_url2 = girder.lookup_url(job_id=job_id)\n",
    "output_object = geolib.create(girder_url2, bounds=[x-dx,y-dy,x+dx,y+dy])\n",
    "# print('output_object', output_object)\n",
    "\n",
    "# Display cropped dataset (must again set metadata)\n",
    "output_object._epsg = 4326\n",
    "output_object._setdatatype(geolib.types.RASTER)\n",
    "output_object.opacity = 0.8\n",
    "scene2 = geolib.show(output_object)\n",
    "display(scene2)"
   ]
  },
  {
   "cell_type": "code",
   "execution_count": 10,
   "metadata": {},
   "outputs": [
    {
     "data": {
      "application/vnd.jupyter.widget-view+json": {
       "model_id": "bf66ca7801054e809530213122567473",
       "version_major": 2,
       "version_minor": 0
      },
      "text/plain": [
       "FloatSlider(value=15.5, layout=Layout(width='95%'), max=20.0, min=1.0)"
      ]
     },
     "metadata": {},
     "output_type": "display_data"
    }
   ],
   "source": [
    "import ipywidgets as widgets\n",
    "slider2 = widgets.FloatSlider(min=1, max=20, value=scene2.zoom, layout=dict(width='95%'))\n",
    "newlink = widgets.jslink((slider2, 'value'), (scene2, 'zoom'))\n",
    "display(slider2)"
   ]
  },
  {
   "cell_type": "code",
   "execution_count": null,
   "metadata": {},
   "outputs": [],
   "source": []
  }
 ],
 "metadata": {
  "kernelspec": {
   "display_name": "Python 3",
   "language": "python",
   "name": "python3"
  },
  "language_info": {
   "codemirror_mode": {
    "name": "ipython",
    "version": 3
   },
   "file_extension": ".py",
   "mimetype": "text/x-python",
   "name": "python",
   "nbconvert_exporter": "python",
   "pygments_lexer": "ipython3",
   "version": "3.5.2"
  }
 },
 "nbformat": 4,
 "nbformat_minor": 2
}
