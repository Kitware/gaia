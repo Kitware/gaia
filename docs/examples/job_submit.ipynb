{
 "cells": [
  {
   "cell_type": "code",
   "execution_count": 1,
   "metadata": {},
   "outputs": [],
   "source": [
    "# Set NEWT session id\n",
    "newt_sessionid = '04d401b204b77487f4fc94cf1b92bacf'\n"
   ]
  },
  {
   "cell_type": "code",
   "execution_count": 2,
   "metadata": {},
   "outputs": [],
   "source": [
    "# Load Gaia and connect to girder using NEWT session id\n",
    "import geolib\n",
    "girder = geolib.connect(girder_url='http://turtleland4:8080', newt_sessionid=newt_sessionid)\n"
   ]
  },
  {
   "cell_type": "code",
   "execution_count": 3,
   "metadata": {},
   "outputs": [],
   "source": [
    "# Todo select item from ESS-DIVE\n",
    "\n",
    "# As a surrogate, use file that was uploaded manually\n",
    "resource_type = 'item'\n",
    "resource_id = '5c88076206a1b5013e1c6d77'    # /user/admin/Public/local/SFBay_grayscale.tif\n",
    "girder_url = 'girder://{}/{}'.format(resource_type, resource_id)\n",
    "\n",
    "essdive_object = geolib.create(girder_url)\n"
   ]
  },
  {
   "cell_type": "code",
   "execution_count": 4,
   "metadata": {},
   "outputs": [
    {
     "data": {
      "application/vnd.jupyter.widget-view+json": {
       "model_id": "1e9ca1f8b01e4c8791e32dfe7219e0be",
       "version_major": 2,
       "version_minor": 0
      },
      "text/plain": [
       "scene(center={'x': 0.0, 'y': 0.0}, layout=Layout(align_self='stretch', height='400px'))"
      ]
     },
     "metadata": {},
     "output_type": "display_data"
    }
   ],
   "source": [
    "# Get bounds\n",
    "# metadata = essdive_object.get_metadata()\n",
    "metadata = {\n",
    " 'bounds': {'coordinates': [[[-122.71879201711467, 37.45219874192699],\n",
    "    [-122.71879201711467, 38.052231141926995],\n",
    "    [-122.11875961711466, 38.052231141926995],\n",
    "    [-122.11875961711466, 37.45219874192699],\n",
    "    [-122.71879201711467, 37.45219874192699]]],\n",
    "  'type': 'Polygon'},\n",
    " 'height': 4323,\n",
    " 'width': 4323}\n",
    "\n",
    "# Create polygon to display bounds\n",
    "bounds = metadata.get('bounds')\n",
    "coordinates = bounds.get('coordinates')\n",
    "import geojson\n",
    "geometry = geojson.Polygon(coordinates)\n",
    "essdive_feature = geojson.Feature(geometry=geometry, properties={'fillColor': 'black', 'fillOpacity': 0.2})\n",
    "essdive_object = geolib.create(essdive_feature)\n",
    "\n",
    "# Generate small crop geometry\n",
    "bounds  = coordinates\n",
    "bounds = bounds[0]\n",
    "x = (bounds[0][0] + bounds[2][0]) / 2.0\n",
    "y = (bounds[0][1] + bounds[2][1]) / 2.0\n",
    "\n",
    "# Use small percentage of height & width\n",
    "dx = 0.12 * (bounds[2][0] - bounds[0][0])\n",
    "dy = 0.16 * (bounds[2][1] - bounds[0][1])\n",
    "poly = [[\n",
    "    [x,y], [x+dx,y+dy], [x-dx,y+dy], [x-dx,y-dy], [x+dx,y-dy]\n",
    "]]\n",
    "geometry = geojson.Polygon(poly)\n",
    "crop_feature = geojson.Feature(geometry=geometry, properties={'fillColor': 'magenta', 'fillOpacity': 0.5})\n",
    "crop_object = geolib.create(crop_feature)\n",
    "# print(crop_object, crop_object._getdatatype())\n",
    "\n",
    "scene = geolib.show([crop_object, essdive_object])\n",
    "display(scene)\n"
   ]
  },
  {
   "cell_type": "code",
   "execution_count": 5,
   "metadata": {},
   "outputs": [
    {
     "data": {
      "application/vnd.jupyter.widget-view+json": {
       "model_id": "5f78fd6adfe74a7ea2eecd4b17976271",
       "version_major": 2,
       "version_minor": 0
      },
      "text/plain": [
       "FloatSlider(value=9.328175, layout=Layout(width='95%'), max=16.0, min=1.0)"
      ]
     },
     "metadata": {},
     "output_type": "display_data"
    }
   ],
   "source": [
    "import ipywidgets as widgets\n",
    "z = widgets.FloatSlider(min=1, max=16, value=scene.zoom, layout=dict(width='95%'))\n",
    "newlink = widgets.jslink((z, 'value'), (scene, 'zoom'))\n",
    "display(z)"
   ]
  },
  {
   "cell_type": "code",
   "execution_count": 6,
   "metadata": {},
   "outputs": [
    {
     "data": {
      "text/plain": [
       "'no job id yet'"
      ]
     },
     "execution_count": 6,
     "metadata": {},
     "output_type": "execute_result"
    }
   ],
   "source": [
    "# To run on Girder:\n",
    "# cropped_object = gaia.crop(essdiv_object, crop_object)\n",
    "cori_job = geolib.submit_crop(essdive_object, crop_object)\n",
    "cori_job"
   ]
  },
  {
   "cell_type": "code",
   "execution_count": null,
   "metadata": {},
   "outputs": [],
   "source": []
  }
 ],
 "metadata": {
  "kernelspec": {
   "display_name": "Python 3",
   "language": "python",
   "name": "python3"
  },
  "language_info": {
   "codemirror_mode": {
    "name": "ipython",
    "version": 3
   },
   "file_extension": ".py",
   "mimetype": "text/x-python",
   "name": "python",
   "nbconvert_exporter": "python",
   "pygments_lexer": "ipython3",
   "version": "3.5.2"
  }
 },
 "nbformat": 4,
 "nbformat_minor": 2
}
