{
 "cells": [
  {
   "cell_type": "code",
   "execution_count": null,
   "metadata": {},
   "outputs": [],
   "source": [
    "import gaia\n",
    "\n",
    "# Initialize Girder connection\n",
    "api_key = 'SJoYVdAJdWIockqNdeckt1f7W6JU6Lxou4eYW3ym'\n",
    "datastore = gaia.connect(apikey=api_key)"
   ]
  },
  {
   "cell_type": "code",
   "execution_count": null,
   "metadata": {},
   "outputs": [],
   "source": [
    "# Initialize gaia object for known file Public/temp/crop100m.tif\n",
    "girder_url = 'girder://item/5c0076ba7478a30007d5b5a6'  # DEM_bare_earth.tif\n",
    "#girder_url = 'girder://item/5bd0927161700e013c22a574'  # public crop100.tif\n",
    "\n",
    "dataset = gaia.create(girder_url)\n",
    "\n",
    "# Todo is there a better api for these options?\n",
    "dataset.opacity = 0.8\n",
    "dataset.set_mapnik_style({\n",
    "    'band': 1,\n",
    "    'max': 5000,\n",
    "    'min': 2000,\n",
    "    'palette': 'matplotlib.Plasma_6',\n",
    "    'scheme': 'linear',\n",
    "})"
   ]
  },
  {
   "cell_type": "code",
   "execution_count": null,
   "metadata": {},
   "outputs": [],
   "source": [
    "#gaia.show(dataset, representation='outline')\n",
    "#gaia.show(dataset, representation='outline', style={'color': 'magenta'})\n",
    "scene = gaia.show(dataset)\n",
    "#scene.zoom = 10\n",
    "display(scene)"
   ]
  },
  {
   "cell_type": "code",
   "execution_count": null,
   "metadata": {},
   "outputs": [],
   "source": [
    "import ipywidgets as widgets\n",
    "z = widgets.FloatSlider(min=1, max=16, value=scene.zoom, layout=dict(width='95%'))"
   ]
  },
  {
   "cell_type": "code",
   "execution_count": null,
   "metadata": {},
   "outputs": [],
   "source": [
    "newlink = widgets.jslink((z, 'value'), (scene, 'zoom'))\n",
    "display(z)"
   ]
  },
  {
   "cell_type": "code",
   "execution_count": null,
   "metadata": {},
   "outputs": [],
   "source": []
  }
 ],
 "metadata": {
  "kernelspec": {
   "display_name": "Python 3",
   "language": "python",
   "name": "python3"
  },
  "language_info": {
   "codemirror_mode": {
    "name": "ipython",
    "version": 3
   },
   "file_extension": ".py",
   "mimetype": "text/x-python",
   "name": "python",
   "nbconvert_exporter": "python",
   "pygments_lexer": "ipython3",
   "version": "3.5.2"
  }
 },
 "nbformat": 4,
 "nbformat_minor": 2
}
