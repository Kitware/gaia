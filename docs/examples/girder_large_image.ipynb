{
 "cells": [
  {
   "cell_type": "code",
   "execution_count": null,
   "metadata": {},
   "outputs": [],
   "source": [
    "import gaia\n",
    "\n",
    "# Initialize Girder connection\n",
    "api_key = 'LcxASyej0yUl9Pr7mgAmf3kj2a7a92SsemTln8ps'\n",
    "datastore = gaia.connect(apikey=api_key)\n",
    "\n",
    "# Initialize gaia object for known file Public/temp/crop100m.tif\n",
    "girder_url = 'girder://item/5bca474261700e00077b2220'  # DEM_bare_earth.tif\n",
    "#girder_url = 'girder://item/5bd0927161700e013c22a574'  # public crop100.tif\n",
    "\n",
    "dataset = gaia.create(girder_url)\n",
    "\n",
    "# Todo is there a better api for these options?\n",
    "dataset.opacity = 0.8\n",
    "dataset.set_mapnik_style({\n",
    "    'band': 1,\n",
    "    'max': 5000,\n",
    "    'min': 2000,\n",
    "    'palette': 'matplotlib.Plasma_6',\n",
    "    'scheme': 'linear',\n",
    "})\n"
   ]
  },
  {
   "cell_type": "code",
   "execution_count": null,
   "metadata": {},
   "outputs": [],
   "source": [
    "#gaia.show(dataset, representation='outline')\n",
    "#gaia.show(dataset, representation='outline', style={'color': 'magenta'})\n",
    "scene = gaia.show(dataset)\n",
    "#scene.zoom = 10\n",
    "display(scene)"
   ]
  },
  {
   "cell_type": "code",
   "execution_count": null,
   "metadata": {},
   "outputs": [],
   "source": [
    "import ipywidgets as widgets\n",
    "z = widgets.FloatSlider(min=1, max=16, value=scene.zoom, layout=dict(width='95%'))"
   ]
  },
  {
   "cell_type": "code",
   "execution_count": null,
   "metadata": {},
   "outputs": [],
   "source": [
    "newlink = widgets.jslink((z, 'value'), (scene, 'zoom'))\n",
    "display(z)"
   ]
  }
 ],
 "metadata": {
  "kernelspec": {
   "display_name": "Python 3",
   "language": "python",
   "name": "python3"
  },
  "language_info": {
   "codemirror_mode": {
    "name": "ipython",
    "version": 3
   },
   "file_extension": ".py",
   "mimetype": "text/x-python",
   "name": "python",
   "nbconvert_exporter": "python",
   "pygments_lexer": "ipython3",
   "version": "3.5.2"
  }
 },
 "nbformat": 4,
 "nbformat_minor": 2
}
